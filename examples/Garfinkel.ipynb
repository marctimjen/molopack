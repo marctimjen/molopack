{
 "cells": [
  {
   "cell_type": "code",
   "execution_count": 1,
   "metadata": {},
   "outputs": [
    {
     "ename": "ImportError",
     "evalue": "cannot import name 'simon_n_garfinkel' from 'molopack.garfinkel' (C:\\Users\\Bruger\\Documents\\GitHub\\molopack\\examples\\..\\molopack\\garfinkel.py)",
     "output_type": "error",
     "traceback": [
      "\u001b[1;31m---------------------------------------------------------------------------\u001b[0m",
      "\u001b[1;31mImportError\u001b[0m                               Traceback (most recent call last)",
      "Input \u001b[1;32mIn [1]\u001b[0m, in \u001b[0;36m<cell line: 5>\u001b[1;34m()\u001b[0m\n\u001b[0;32m      3\u001b[0m \u001b[38;5;28;01mimport\u001b[39;00m \u001b[38;5;21;01msys\u001b[39;00m\n\u001b[0;32m      4\u001b[0m sys\u001b[38;5;241m.\u001b[39mpath\u001b[38;5;241m.\u001b[39mappend(\u001b[38;5;124m\"\u001b[39m\u001b[38;5;124m..\u001b[39m\u001b[38;5;124m\"\u001b[39m) \u001b[38;5;66;03m# adds higher directory to python modules path\u001b[39;00m\n\u001b[1;32m----> 5\u001b[0m \u001b[38;5;28;01mfrom\u001b[39;00m \u001b[38;5;21;01mmolopack\u001b[39;00m \u001b[38;5;28;01mimport\u001b[39;00m simon_n_garfinkel\n",
      "File \u001b[1;32m~\\Documents\\GitHub\\molopack\\examples\\..\\molopack\\__init__.py:9\u001b[0m, in \u001b[0;36m<module>\u001b[1;34m\u001b[0m\n\u001b[0;32m      7\u001b[0m \u001b[38;5;28;01mfrom\u001b[39;00m \u001b[38;5;21;01m.\u001b[39;00m\u001b[38;5;21;01mbranchnbound\u001b[39;00m \u001b[38;5;28;01mimport\u001b[39;00m branch_and_bound \u001b[38;5;28;01mas\u001b[39;00m branch_and_bound\n\u001b[0;32m      8\u001b[0m \u001b[38;5;28;01mfrom\u001b[39;00m \u001b[38;5;21;01m.\u001b[39;00m\u001b[38;5;21;01mpferschy\u001b[39;00m \u001b[38;5;28;01mimport\u001b[39;00m pferschy \u001b[38;5;28;01mas\u001b[39;00m pferschy\n\u001b[1;32m----> 9\u001b[0m \u001b[38;5;28;01mfrom\u001b[39;00m \u001b[38;5;21;01m.\u001b[39;00m\u001b[38;5;21;01mgarfinkel\u001b[39;00m \u001b[38;5;28;01mimport\u001b[39;00m simon_n_garfinkel \u001b[38;5;28;01mas\u001b[39;00m simon_n_garfinkel\n",
      "\u001b[1;31mImportError\u001b[0m: cannot import name 'simon_n_garfinkel' from 'molopack.garfinkel' (C:\\Users\\Bruger\\Documents\\GitHub\\molopack\\examples\\..\\molopack\\garfinkel.py)"
     ]
    }
   ],
   "source": [
    "import numpy as np\n",
    "\n",
    "import sys\n",
    "sys.path.append(\"..\") # adds higher directory to python modules path\n",
    "from molopack import simon_n_garfinkel"
   ]
  },
  {
   "cell_type": "code",
   "execution_count": null,
   "metadata": {},
   "outputs": [],
   "source": [
    "# HELTAL-2 som eksempel\n",
    "\n",
    "m = 999\n",
    "#                   1   2   3   4   5   6   \n",
    "costs = np.array([[ m, 27, 43, 16, 30, 26],  # 1\n",
    "                  [ 7,  m, 16,  1, 30, 25],  # 2\n",
    "                  [20, 13,  m, 35,  5,  0],  # 3\n",
    "                  [21, 16, 25,  m, 18, 18],  # 4\n",
    "                  [12, 46, 27, 48,  m,  5],  # 5\n",
    "                  [23,  5,  5,  9,  5,  m]]) # 6\n",
    "\n",
    "simon_n_garfinkel(costs)"
   ]
  },
  {
   "cell_type": "code",
   "execution_count": null,
   "metadata": {},
   "outputs": [],
   "source": [
    "m = 999\n",
    "#                  1   2   3   4   5   6   7   8   \n",
    "costs = np.array([[m, 76, 43, 38, 51, 42, 19, 80],\n",
    "                  [42, m, 49, 26, 78, 52, 39, 87],\n",
    "                  [48, 28, m, 36, 53, 44, 68, 61],\n",
    "                  [72, 31, 29, m, 42, 49, 50, 38],\n",
    "                  [30, 52, 38, 47, m, 64, 75, 82],\n",
    "                  [66, 51, 83, 51, 22, m, 37, 71],\n",
    "                  [77, 62, 93, 54, 69, 38, m, 26],\n",
    "                  [42, 58, 66, 76, 41, 52, 83, m]])\n",
    "\n",
    "simon_n_garfinkel(costs)"
   ]
  },
  {
   "cell_type": "code",
   "execution_count": null,
   "metadata": {},
   "outputs": [],
   "source": []
  }
 ],
 "metadata": {
  "kernelspec": {
   "display_name": "Python 3 (ipykernel)",
   "language": "python",
   "name": "python3"
  },
  "language_info": {
   "codemirror_mode": {
    "name": "ipython",
    "version": 3
   },
   "file_extension": ".py",
   "mimetype": "text/x-python",
   "name": "python",
   "nbconvert_exporter": "python",
   "pygments_lexer": "ipython3",
   "version": "3.10.3"
  }
 },
 "nbformat": 4,
 "nbformat_minor": 4
}
