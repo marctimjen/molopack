{
 "cells": [
  {
   "cell_type": "code",
   "execution_count": 1,
   "metadata": {},
   "outputs": [],
   "source": [
    "import numpy as np\n",
    "\n",
    "import sys\n",
    "sys.path.append(\"..\") # adds higher directory to python modules path\n",
    "from molopack import simon_n_garfinkel"
   ]
  },
  {
   "cell_type": "code",
   "execution_count": 2,
   "metadata": {},
   "outputs": [
    {
     "name": "stdout",
     "output_type": "stream",
     "text": [
      "P(0): subture=[[1, 4, 2, 1], [3, 5, 6, 3]], obj=54.0\n"
     ]
    },
    {
     "ename": "NameError",
     "evalue": "name 'm' is not defined",
     "output_type": "error",
     "traceback": [
      "\u001b[1;31m---------------------------------------------------------------------------\u001b[0m",
      "\u001b[1;31mNameError\u001b[0m                                 Traceback (most recent call last)",
      "Input \u001b[1;32mIn [2]\u001b[0m, in \u001b[0;36m<cell line: 12>\u001b[1;34m()\u001b[0m\n\u001b[0;32m      4\u001b[0m \u001b[38;5;66;03m#                   1   2   3   4   5   6   \u001b[39;00m\n\u001b[0;32m      5\u001b[0m costs \u001b[38;5;241m=\u001b[39m np\u001b[38;5;241m.\u001b[39marray([[ m, \u001b[38;5;241m27\u001b[39m, \u001b[38;5;241m43\u001b[39m, \u001b[38;5;241m16\u001b[39m, \u001b[38;5;241m30\u001b[39m, \u001b[38;5;241m26\u001b[39m],  \u001b[38;5;66;03m# 1\u001b[39;00m\n\u001b[0;32m      6\u001b[0m                   [ \u001b[38;5;241m7\u001b[39m,  m, \u001b[38;5;241m16\u001b[39m,  \u001b[38;5;241m1\u001b[39m, \u001b[38;5;241m30\u001b[39m, \u001b[38;5;241m25\u001b[39m],  \u001b[38;5;66;03m# 2\u001b[39;00m\n\u001b[0;32m      7\u001b[0m                   [\u001b[38;5;241m20\u001b[39m, \u001b[38;5;241m13\u001b[39m,  m, \u001b[38;5;241m35\u001b[39m,  \u001b[38;5;241m5\u001b[39m,  \u001b[38;5;241m0\u001b[39m],  \u001b[38;5;66;03m# 3\u001b[39;00m\n\u001b[0;32m      8\u001b[0m                   [\u001b[38;5;241m21\u001b[39m, \u001b[38;5;241m16\u001b[39m, \u001b[38;5;241m25\u001b[39m,  m, \u001b[38;5;241m18\u001b[39m, \u001b[38;5;241m18\u001b[39m],  \u001b[38;5;66;03m# 4\u001b[39;00m\n\u001b[0;32m      9\u001b[0m                   [\u001b[38;5;241m12\u001b[39m, \u001b[38;5;241m46\u001b[39m, \u001b[38;5;241m27\u001b[39m, \u001b[38;5;241m48\u001b[39m,  m,  \u001b[38;5;241m5\u001b[39m],  \u001b[38;5;66;03m# 5\u001b[39;00m\n\u001b[0;32m     10\u001b[0m                   [\u001b[38;5;241m23\u001b[39m,  \u001b[38;5;241m5\u001b[39m,  \u001b[38;5;241m5\u001b[39m,  \u001b[38;5;241m9\u001b[39m,  \u001b[38;5;241m5\u001b[39m,  m]]) \u001b[38;5;66;03m# 6\u001b[39;00m\n\u001b[1;32m---> 12\u001b[0m \u001b[43msimon_n_garfinkel\u001b[49m\u001b[43m(\u001b[49m\u001b[43mcosts\u001b[49m\u001b[43m)\u001b[49m\n",
      "File \u001b[1;32m~\\Documents\\GitHub\\molopack\\examples\\..\\molopack\\garfinkel.py:126\u001b[0m, in \u001b[0;36msimon_n_garfinkel\u001b[1;34m(matrix)\u001b[0m\n\u001b[0;32m    124\u001b[0m test \u001b[38;5;241m=\u001b[39m deepcopy(matrix)\n\u001b[0;32m    125\u001b[0m \u001b[38;5;28;01mfor\u001b[39;00m coord \u001b[38;5;129;01min\u001b[39;00m coord_liste:\n\u001b[1;32m--> 126\u001b[0m     test[coord[\u001b[38;5;241m0\u001b[39m]][coord[\u001b[38;5;241m1\u001b[39m]] \u001b[38;5;241m=\u001b[39m \u001b[43mm\u001b[49m\n\u001b[0;32m    127\u001b[0m \u001b[38;5;66;03m#print(test)\u001b[39;00m\n\u001b[0;32m    128\u001b[0m tæller \u001b[38;5;241m+\u001b[39m\u001b[38;5;241m=\u001b[39m \u001b[38;5;241m1\u001b[39m\n",
      "\u001b[1;31mNameError\u001b[0m: name 'm' is not defined"
     ]
    }
   ],
   "source": [
    "# HELTAL-2 som eksempel\n",
    "\n",
    "m = 999\n",
    "#                   1   2   3   4   5   6   \n",
    "costs = np.array([[ m, 27, 43, 16, 30, 26],  # 1\n",
    "                  [ 7,  m, 16,  1, 30, 25],  # 2\n",
    "                  [20, 13,  m, 35,  5,  0],  # 3\n",
    "                  [21, 16, 25,  m, 18, 18],  # 4\n",
    "                  [12, 46, 27, 48,  m,  5],  # 5\n",
    "                  [23,  5,  5,  9,  5,  m]]) # 6\n",
    "\n",
    "simon_n_garfinkel(costs)"
   ]
  },
  {
   "cell_type": "code",
   "execution_count": null,
   "metadata": {},
   "outputs": [],
   "source": [
    "m = 999\n",
    "#                  1   2   3   4   5   6   7   8   \n",
    "costs = np.array([[m, 76, 43, 38, 51, 42, 19, 80],\n",
    "                  [42, m, 49, 26, 78, 52, 39, 87],\n",
    "                  [48, 28, m, 36, 53, 44, 68, 61],\n",
    "                  [72, 31, 29, m, 42, 49, 50, 38],\n",
    "                  [30, 52, 38, 47, m, 64, 75, 82],\n",
    "                  [66, 51, 83, 51, 22, m, 37, 71],\n",
    "                  [77, 62, 93, 54, 69, 38, m, 26],\n",
    "                  [42, 58, 66, 76, 41, 52, 83, m]])\n",
    "\n",
    "simon_n_garfinkel(costs)"
   ]
  }
 ],
 "metadata": {
  "kernelspec": {
   "display_name": "Python 3 (ipykernel)",
   "language": "python",
   "name": "python3"
  },
  "language_info": {
   "codemirror_mode": {
    "name": "ipython",
    "version": 3
   },
   "file_extension": ".py",
   "mimetype": "text/x-python",
   "name": "python",
   "nbconvert_exporter": "python",
   "pygments_lexer": "ipython3",
   "version": "3.10.3"
  }
 },
 "nbformat": 4,
 "nbformat_minor": 4
}
