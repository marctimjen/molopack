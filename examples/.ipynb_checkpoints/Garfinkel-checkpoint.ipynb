{
 "cells": [
  {
   "cell_type": "code",
   "execution_count": 1,
   "metadata": {},
   "outputs": [],
   "source": [
    "import sys\n",
    "sys.path.append(\"..\") # adds higher directory to python modules path"
   ]
  },
  {
   "cell_type": "code",
   "execution_count": 2,
   "metadata": {},
   "outputs": [],
   "source": [
    "import numpy as np\n",
    "from molopack import simon_n_garfinkel"
   ]
  },
  {
   "cell_type": "code",
   "execution_count": 3,
   "metadata": {},
   "outputs": [
    {
     "name": "stdout",
     "output_type": "stream",
     "text": [
      "P(0): subture=[[1, 4, 2, 1], [3, 5, 6, 3]], obj=54.0\n",
      "P(0, 1): subture=[[1, 5, 1], [2, 4, 2], [3, 6, 3]], obj=64.0\n",
      "P(0, 2): subture=[[1, 4, 3, 5, 6, 2, 1]], obj=63.0\n",
      "P(0, 3): subture=[[1, 4, 2, 3, 6, 5, 1]], obj=65.0\n"
     ]
    },
    {
     "data": {
      "text/plain": [
       "([1, 4, 3, 5, 6, 2, 1], 63.0)"
      ]
     },
     "execution_count": 3,
     "metadata": {},
     "output_type": "execute_result"
    }
   ],
   "source": [
    "# HELTAL-2 som eksempel\n",
    "\n",
    "m = 999\n",
    "#                   1   2   3   4   5   6   \n",
    "costs = np.array([[ m, 27, 43, 16, 30, 26],  # 1\n",
    "                  [ 7,  m, 16,  1, 30, 25],  # 2\n",
    "                  [20, 13,  m, 35,  5,  0],  # 3\n",
    "                  [21, 16, 25,  m, 18, 18],  # 4\n",
    "                  [12, 46, 27, 48,  m,  5],  # 5\n",
    "                  [23,  5,  5,  9,  5,  m]]) # 6\n",
    "\n",
    "simon_n_garfinkel(costs)"
   ]
  },
  {
   "cell_type": "code",
   "execution_count": 4,
   "metadata": {},
   "outputs": [
    {
     "name": "stdout",
     "output_type": "stream",
     "text": [
      "P(0): subture=[[1, 7, 8, 6, 5, 1], [2, 4, 3, 2]], obj=232.0\n",
      "P(0, 1): subture=[[1, 4, 3, 2, 7, 8, 6, 5, 1]], obj=264.0\n",
      "P(0, 2): subture=[[1, 7, 8, 1], [2, 4, 6, 5, 3, 2]], obj=250.0\n",
      "P(0, 3): subture=[[1, 7, 8, 1], [2, 4, 2], [3, 6, 5, 3]], obj=248.0\n",
      "P(0, 3, 4): subture=[[1, 7, 8, 1], [2, 3, 6, 5, 4, 2]], obj=280.0\n",
      "P(0, 3, 5): subture=[[1, 7, 8, 2, 4, 3, 6, 5, 1]], obj=254.0\n",
      "P(0, 2, 6): subture=[[1, 6, 5, 3, 2, 4, 7, 8, 1]], obj=274.0\n",
      "P(0, 2, 7): subture=[[1, 7, 6, 5, 3, 2, 4, 8, 1]], obj=251.0\n",
      "P(0, 2, 8): subture=[[1, 7, 8, 3, 2, 4, 6, 5, 1]], obj=266.0\n"
     ]
    },
    {
     "data": {
      "text/plain": [
       "([1, 7, 6, 5, 3, 2, 4, 8, 1], 251.0)"
      ]
     },
     "execution_count": 4,
     "metadata": {},
     "output_type": "execute_result"
    }
   ],
   "source": [
    "m = 999\n",
    "#                  1   2   3   4   5   6   7   8   \n",
    "costs = np.array([[m, 76, 43, 38, 51, 42, 19, 80],\n",
    "                  [42, m, 49, 26, 78, 52, 39, 87],\n",
    "                  [48, 28, m, 36, 53, 44, 68, 61],\n",
    "                  [72, 31, 29, m, 42, 49, 50, 38],\n",
    "                  [30, 52, 38, 47, m, 64, 75, 82],\n",
    "                  [66, 51, 83, 51, 22, m, 37, 71],\n",
    "                  [77, 62, 93, 54, 69, 38, m, 26],\n",
    "                  [42, 58, 66, 76, 41, 52, 83, m]])\n",
    "\n",
    "simon_n_garfinkel(costs)"
   ]
  }
 ],
 "metadata": {
  "kernelspec": {
   "display_name": "Python 3 (ipykernel)",
   "language": "python",
   "name": "python3"
  },
  "language_info": {
   "codemirror_mode": {
    "name": "ipython",
    "version": 3
   },
   "file_extension": ".py",
   "mimetype": "text/x-python",
   "name": "python",
   "nbconvert_exporter": "python",
   "pygments_lexer": "ipython3",
   "version": "3.10.3"
  }
 },
 "nbformat": 4,
 "nbformat_minor": 4
}
