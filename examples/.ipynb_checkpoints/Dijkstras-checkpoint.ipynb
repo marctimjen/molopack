{
 "cells": [
  {
   "cell_type": "code",
   "execution_count": 3,
   "id": "5aaf70e3",
   "metadata": {},
   "outputs": [
    {
     "ename": "ImportError",
     "evalue": "cannot import name 'dijkstras_algoritme' from 'molopack' (C:\\Users\\Bruger\\Documents\\GitHub\\molopack\\examples\\..\\molopack\\__init__.py)",
     "output_type": "error",
     "traceback": [
      "\u001b[1;31m---------------------------------------------------------------------------\u001b[0m",
      "\u001b[1;31mImportError\u001b[0m                               Traceback (most recent call last)",
      "Input \u001b[1;32mIn [3]\u001b[0m, in \u001b[0;36m<cell line: 13>\u001b[1;34m()\u001b[0m\n\u001b[0;32m     11\u001b[0m \u001b[38;5;28;01mimport\u001b[39;00m \u001b[38;5;21;01msys\u001b[39;00m\n\u001b[0;32m     12\u001b[0m sys\u001b[38;5;241m.\u001b[39mpath\u001b[38;5;241m.\u001b[39mappend(\u001b[38;5;124m\"\u001b[39m\u001b[38;5;124m..\u001b[39m\u001b[38;5;124m\"\u001b[39m) \u001b[38;5;66;03m# adds higher directory to python modules path\u001b[39;00m\n\u001b[1;32m---> 13\u001b[0m \u001b[38;5;28;01mfrom\u001b[39;00m \u001b[38;5;21;01mmolopack\u001b[39;00m \u001b[38;5;28;01mimport\u001b[39;00m dijkstras_algoritme\n\u001b[0;32m     15\u001b[0m \u001b[38;5;66;03m# Alle afstanden skal være større end 0.\u001b[39;00m\n\u001b[0;32m     16\u001b[0m \n\u001b[0;32m     17\u001b[0m \u001b[38;5;66;03m# Eksempel fra slides\u001b[39;00m\n\u001b[0;32m     18\u001b[0m          \u001b[38;5;66;03m# til  0,  1,  2,  3,  4,  5,  6, \u001b[39;00m\n\u001b[0;32m     19\u001b[0m A \u001b[38;5;241m=\u001b[39m np\u001b[38;5;241m.\u001b[39marray([[\u001b[38;5;241m-\u001b[39m\u001b[38;5;241m1\u001b[39m,  \u001b[38;5;241m8\u001b[39m,  \u001b[38;5;241m6\u001b[39m, \u001b[38;5;241m-\u001b[39m\u001b[38;5;241m1\u001b[39m, \u001b[38;5;241m-\u001b[39m\u001b[38;5;241m1\u001b[39m, \u001b[38;5;241m-\u001b[39m\u001b[38;5;241m1\u001b[39m, \u001b[38;5;241m-\u001b[39m\u001b[38;5;241m1\u001b[39m], \u001b[38;5;66;03m#Fra 0\u001b[39;00m\n\u001b[0;32m     20\u001b[0m               [\u001b[38;5;241m-\u001b[39m\u001b[38;5;241m1\u001b[39m, \u001b[38;5;241m-\u001b[39m\u001b[38;5;241m1\u001b[39m,  \u001b[38;5;241m1\u001b[39m,  \u001b[38;5;241m5\u001b[39m,  \u001b[38;5;241m2\u001b[39m, \u001b[38;5;241m-\u001b[39m\u001b[38;5;241m1\u001b[39m, \u001b[38;5;241m-\u001b[39m\u001b[38;5;241m1\u001b[39m], \u001b[38;5;66;03m#1\u001b[39;00m\n\u001b[0;32m     21\u001b[0m               [\u001b[38;5;241m-\u001b[39m\u001b[38;5;241m1\u001b[39m,  \u001b[38;5;241m1\u001b[39m, \u001b[38;5;241m-\u001b[39m\u001b[38;5;241m1\u001b[39m,  \u001b[38;5;241m9\u001b[39m, \u001b[38;5;241m-\u001b[39m\u001b[38;5;241m1\u001b[39m,  \u001b[38;5;241m2\u001b[39m, \u001b[38;5;241m-\u001b[39m\u001b[38;5;241m1\u001b[39m], \u001b[38;5;66;03m#2\u001b[39;00m\n\u001b[1;32m   (...)\u001b[0m\n\u001b[0;32m     24\u001b[0m               [\u001b[38;5;241m-\u001b[39m\u001b[38;5;241m1\u001b[39m, \u001b[38;5;241m-\u001b[39m\u001b[38;5;241m1\u001b[39m, \u001b[38;5;241m-\u001b[39m\u001b[38;5;241m1\u001b[39m, \u001b[38;5;241m-\u001b[39m\u001b[38;5;241m1\u001b[39m, \u001b[38;5;241m-\u001b[39m\u001b[38;5;241m1\u001b[39m, \u001b[38;5;241m-\u001b[39m\u001b[38;5;241m1\u001b[39m,  \u001b[38;5;241m7\u001b[39m], \u001b[38;5;66;03m#5\u001b[39;00m\n\u001b[0;32m     25\u001b[0m               [\u001b[38;5;241m-\u001b[39m\u001b[38;5;241m1\u001b[39m, \u001b[38;5;241m-\u001b[39m\u001b[38;5;241m1\u001b[39m, \u001b[38;5;241m-\u001b[39m\u001b[38;5;241m1\u001b[39m, \u001b[38;5;241m-\u001b[39m\u001b[38;5;241m1\u001b[39m, \u001b[38;5;241m-\u001b[39m\u001b[38;5;241m1\u001b[39m, \u001b[38;5;241m-\u001b[39m\u001b[38;5;241m1\u001b[39m, \u001b[38;5;241m-\u001b[39m\u001b[38;5;241m1\u001b[39m]])\u001b[38;5;66;03m#6\u001b[39;00m\n",
      "\u001b[1;31mImportError\u001b[0m: cannot import name 'dijkstras_algoritme' from 'molopack' (C:\\Users\\Bruger\\Documents\\GitHub\\molopack\\examples\\..\\molopack\\__init__.py)"
     ]
    }
   ],
   "source": [
    "\"\"\"\n",
    "// Input: Orienteret graf i en adjandy matrix\n",
    "\n",
    "// Input: Orienteret graf G = (N; A) med kantlængder c_ij\n",
    "// Output: Længde L_i af korteste vej fra s \\in N til alle andre punkter i \\in N \\ {s}\n",
    "\n",
    "\"\"\"\n",
    "\n",
    "import sys\n",
    "sys.path.append(\"..\") # adds higher directory to python modules path\n",
    "from molopack import dijkstras_algoritme\n",
    "\n",
    "# Alle afstanden skal være større end 0.\n",
    "\n",
    "# Eksempel fra slides\n",
    "         # til  0,  1,  2,  3,  4,  5,  6, \n",
    "A = np.array([[-1,  8,  6, -1, -1, -1, -1], #Fra 0\n",
    "              [-1, -1,  1,  5,  2, -1, -1], #1\n",
    "              [-1,  1, -1,  9, -1,  2, -1], #2\n",
    "              [-1, -1, -1, -1,  1,  4, -1], #3\n",
    "              [-1, -1, -1,  2, -1, -1,  3], #4\n",
    "              [-1, -1, -1, -1, -1, -1,  7], #5\n",
    "              [-1, -1, -1, -1, -1, -1, -1]])#6\n",
    "\n",
    "dijkstras_algoritme(A)"
   ]
  },
  {
   "cell_type": "code",
   "execution_count": null,
   "id": "2ecf50ec-6763-4b8a-970e-cac10189de26",
   "metadata": {},
   "outputs": [],
   "source": []
  }
 ],
 "metadata": {
  "kernelspec": {
   "display_name": "Python 3 (ipykernel)",
   "language": "python",
   "name": "python3"
  },
  "language_info": {
   "codemirror_mode": {
    "name": "ipython",
    "version": 3
   },
   "file_extension": ".py",
   "mimetype": "text/x-python",
   "name": "python",
   "nbconvert_exporter": "python",
   "pygments_lexer": "ipython3",
   "version": "3.10.3"
  }
 },
 "nbformat": 4,
 "nbformat_minor": 5
}
