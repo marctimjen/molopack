{
 "cells": [
  {
   "cell_type": "code",
   "execution_count": 1,
   "id": "6d45a248-50db-4a6a-afa9-750c8c4fc2b8",
   "metadata": {},
   "outputs": [],
   "source": [
    "import sys\n",
    "sys.path.append(\"..\") # adds higher directory to python modules path\n",
    "from IPython.display import display\n",
    "from molopack import vogel"
   ]
  },
  {
   "cell_type": "markdown",
   "id": "1aa9d134-c424-41b7-a910-abfbe0c3acc3",
   "metadata": {},
   "source": [
    "Opgave NET-1, hvor Vogel's approximation bør anvendes:"
   ]
  },
  {
   "cell_type": "code",
   "execution_count": 4,
   "id": "3f83be8e-267e-44cf-8c0e-e08c608ea5b7",
   "metadata": {},
   "outputs": [
    {
     "ename": "TypeError",
     "evalue": "printer() missing 7 required positional arguments: 'cost', 'sup', 'tar', 'idx_r', 'idx_c', 's', and 't'",
     "output_type": "error",
     "traceback": [
      "\u001b[1;31m---------------------------------------------------------------------------\u001b[0m",
      "\u001b[1;31mTypeError\u001b[0m                                 Traceback (most recent call last)",
      "Input \u001b[1;32mIn [4]\u001b[0m, in \u001b[0;36m<module>\u001b[1;34m\u001b[0m\n\u001b[0;32m      2\u001b[0m demand \u001b[38;5;241m=\u001b[39m [\u001b[38;5;241m2\u001b[39m, \u001b[38;5;241m3\u001b[39m, \u001b[38;5;241m2\u001b[39m, \u001b[38;5;241m7\u001b[39m]\n\u001b[0;32m      4\u001b[0m costs \u001b[38;5;241m=\u001b[39m [[\u001b[38;5;241m7\u001b[39m, \u001b[38;5;241m11\u001b[39m, \u001b[38;5;241m3\u001b[39m, \u001b[38;5;241m8\u001b[39m],\n\u001b[0;32m      5\u001b[0m          [\u001b[38;5;241m2\u001b[39m, \u001b[38;5;241m10\u001b[39m, \u001b[38;5;241m1\u001b[39m, \u001b[38;5;241m2\u001b[39m],\n\u001b[0;32m      6\u001b[0m          [\u001b[38;5;241m14\u001b[39m, \u001b[38;5;241m18\u001b[39m, \u001b[38;5;241m8\u001b[39m, \u001b[38;5;241m5\u001b[39m]]\n\u001b[1;32m----> 8\u001b[0m \u001b[43mvogel\u001b[49m\u001b[43m(\u001b[49m\u001b[43msupply\u001b[49m\u001b[43m,\u001b[49m\u001b[43m \u001b[49m\u001b[43mdemand\u001b[49m\u001b[43m,\u001b[49m\u001b[43m \u001b[49m\u001b[43mcosts\u001b[49m\u001b[43m,\u001b[49m\u001b[43m \u001b[49m\u001b[38;5;28;43;01mFalse\u001b[39;49;00m\u001b[43m)\u001b[49m\n",
      "File \u001b[1;32m~\\anaconda3\\envs\\molo\\lib\\site-packages\\molopack\\vogel.py:103\u001b[0m, in \u001b[0;36mvogel\u001b[1;34m(S, T, costs, printe)\u001b[0m\n\u001b[0;32m    101\u001b[0m idx_r \u001b[38;5;241m=\u001b[39m np\u001b[38;5;241m.\u001b[39mnanargmin(nan_gen(s, cost[s, idx_c]))\n\u001b[0;32m    102\u001b[0m send \u001b[38;5;241m=\u001b[39m \u001b[38;5;28mmin\u001b[39m([sup[idx_r], tar[idx_c]])\n\u001b[1;32m--> 103\u001b[0m \u001b[43mprinter\u001b[49m\u001b[43m(\u001b[49m\u001b[38;5;28;43mbool\u001b[39;49m\u001b[43m \u001b[49m\u001b[38;5;241;43m=\u001b[39;49m\u001b[43m \u001b[49m\u001b[43mprinte\u001b[49m\u001b[43m)\u001b[49m\n\u001b[0;32m    104\u001b[0m out[idx_r, idx_c] \u001b[38;5;241m=\u001b[39m send\n\u001b[0;32m    106\u001b[0m sup[idx_r] \u001b[38;5;241m=\u001b[39m sup[idx_r] \u001b[38;5;241m-\u001b[39m send\n",
      "\u001b[1;31mTypeError\u001b[0m: printer() missing 7 required positional arguments: 'cost', 'sup', 'tar', 'idx_r', 'idx_c', 's', and 't'"
     ]
    }
   ],
   "source": [
    "supply = [6, 3, 5]\n",
    "demand = [2, 3, 2, 7]\n",
    "\n",
    "costs = [[7, 11, 3, 8],\n",
    "         [2, 10, 1, 2],\n",
    "         [14, 18, 8, 5]]\n",
    "\n",
    "vogel(supply, demand, costs, False)"
   ]
  },
  {
   "cell_type": "code",
   "execution_count": 18,
   "id": "9b5bf590-c761-488e-9725-32fb90b0b1c9",
   "metadata": {},
   "outputs": [
    {
     "name": "stdout",
     "output_type": "stream",
     "text": [
      "Vogels approximation:\n",
      "[[0 2 3 0 0]\n",
      " [1 0 0 0 4]\n",
      " [1 0 1 4 0]]\n",
      "\n",
      "Cost of this is:\n",
      "16\n"
     ]
    },
    {
     "data": {
      "text/plain": [
       "array([[0, 2, 3, 0, 0],\n",
       "       [1, 0, 0, 0, 4],\n",
       "       [1, 0, 1, 4, 0]])"
      ]
     },
     "execution_count": 18,
     "metadata": {},
     "output_type": "execute_result"
    }
   ],
   "source": [
    "supply = [5, 5, 6]\n",
    "demand = [2, 2, 4, 4, 4]\n",
    "costs = [[10, 1, 1, 1, 1],\n",
    "         [1, 1, 1, 1, 1],\n",
    "         [1, 1, 1, 1, 50]]\n",
    "\n",
    "vogel(supply, demand, costs)"
   ]
  },
  {
   "cell_type": "code",
   "execution_count": 13,
   "id": "3b930a44-30f5-4079-9a02-a988d9893633",
   "metadata": {},
   "outputs": [
    {
     "name": "stdout",
     "output_type": "stream",
     "text": [
      "Vogels approximation:\n",
      "[[ 0 15 35]\n",
      " [20 20  0]\n",
      " [ 0 60  0]]\n",
      "\n",
      "Cost of this is:\n",
      "555\n"
     ]
    },
    {
     "data": {
      "text/plain": [
       "array([[ 0, 15, 35],\n",
       "       [20, 20,  0],\n",
       "       [ 0, 60,  0]])"
      ]
     },
     "execution_count": 13,
     "metadata": {},
     "output_type": "execute_result"
    }
   ],
   "source": [
    "supply = [50, 40, 60]\n",
    "demand = [20, 95, 35]\n",
    "costs = [[6, 4, 1],\n",
    "         [3, 8, 7],\n",
    "         [4, 4, 2]]\n",
    "\n",
    "vogel(supply, demand, costs)"
   ]
  },
  {
   "cell_type": "code",
   "execution_count": null,
   "id": "24049f58-8c9e-490a-8100-436811586d81",
   "metadata": {},
   "outputs": [],
   "source": []
  }
 ],
 "metadata": {
  "kernelspec": {
   "display_name": "Python 3 (ipykernel)",
   "language": "python",
   "name": "python3"
  },
  "language_info": {
   "codemirror_mode": {
    "name": "ipython",
    "version": 3
   },
   "file_extension": ".py",
   "mimetype": "text/x-python",
   "name": "python",
   "nbconvert_exporter": "python",
   "pygments_lexer": "ipython3",
   "version": "3.9.6"
  }
 },
 "nbformat": 4,
 "nbformat_minor": 5
}
