{
 "cells": [
  {
   "cell_type": "code",
   "execution_count": 10,
   "id": "6d45a248-50db-4a6a-afa9-750c8c4fc2b8",
   "metadata": {},
   "outputs": [],
   "source": [
    "import sys\n",
    "sys.path.append(\"..\") # adds higher directory to python modules path\n",
    "from IPython.display import display\n",
    "from molopack import vogel"
   ]
  },
  {
   "cell_type": "markdown",
   "id": "1aa9d134-c424-41b7-a910-abfbe0c3acc3",
   "metadata": {},
   "source": [
    "Opgave NET-1, hvor Vogel's approximation bør anvendes:"
   ]
  },
  {
   "cell_type": "code",
   "execution_count": 11,
   "id": "3f83be8e-267e-44cf-8c0e-e08c608ea5b7",
   "metadata": {},
   "outputs": [
    {
     "name": "stdout",
     "output_type": "stream",
     "text": [
      "Vogels approximation:\n",
      "[[0 3 2 1]\n",
      " [2 0 0 1]\n",
      " [0 0 0 5]]\n",
      "\n",
      "Cost of this is:\n",
      "78\n"
     ]
    },
    {
     "data": {
      "text/plain": [
       "array([[0, 3, 2, 1],\n",
       "       [2, 0, 0, 1],\n",
       "       [0, 0, 0, 5]])"
      ]
     },
     "execution_count": 11,
     "metadata": {},
     "output_type": "execute_result"
    }
   ],
   "source": [
    "supply = [6, 3, 5]\n",
    "demand = [2, 3, 2, 7]\n",
    "\n",
    "costs = [[7, 11, 3, 8],\n",
    "         [2, 10, 1, 2],\n",
    "         [14, 18, 8, 5]]\n",
    "\n",
    "vogel(supply, demand, costs)"
   ]
  },
  {
   "cell_type": "code",
   "execution_count": 12,
   "id": "9b5bf590-c761-488e-9725-32fb90b0b1c9",
   "metadata": {},
   "outputs": [
    {
     "name": "stdout",
     "output_type": "stream",
     "text": [
      "Vogels approximation:\n",
      "[[0 2 3 0 0]\n",
      " [1 0 0 0 4]\n",
      " [1 0 1 4 0]]\n",
      "\n",
      "Cost of this is:\n",
      "16\n"
     ]
    },
    {
     "data": {
      "text/plain": [
       "array([[0, 2, 3, 0, 0],\n",
       "       [1, 0, 0, 0, 4],\n",
       "       [1, 0, 1, 4, 0]])"
      ]
     },
     "execution_count": 12,
     "metadata": {},
     "output_type": "execute_result"
    }
   ],
   "source": [
    "supply = [5, 5, 6]\n",
    "demand = [2, 2, 4, 4, 4]\n",
    "costs = [[10, 1, 1, 1, 1],\n",
    "         [1, 1, 1, 1, 1],\n",
    "         [1, 1, 1, 1, 50]]\n",
    "\n",
    "vogel(supply, demand, costs)"
   ]
  },
  {
   "cell_type": "code",
   "execution_count": 13,
   "id": "3b930a44-30f5-4079-9a02-a988d9893633",
   "metadata": {},
   "outputs": [
    {
     "name": "stdout",
     "output_type": "stream",
     "text": [
      "Vogels approximation:\n",
      "[[ 0 15 35]\n",
      " [20 20  0]\n",
      " [ 0 60  0]]\n",
      "\n",
      "Cost of this is:\n",
      "555\n"
     ]
    },
    {
     "data": {
      "text/plain": [
       "array([[ 0, 15, 35],\n",
       "       [20, 20,  0],\n",
       "       [ 0, 60,  0]])"
      ]
     },
     "execution_count": 13,
     "metadata": {},
     "output_type": "execute_result"
    }
   ],
   "source": [
    "supply = [50, 40, 60]\n",
    "demand = [20, 95, 35]\n",
    "costs = [[6, 4, 1],\n",
    "         [3, 8, 7],\n",
    "         [4, 4, 2]]\n",
    "\n",
    "vogel(supply, demand, costs)"
   ]
  },
  {
   "cell_type": "code",
   "execution_count": null,
   "id": "24049f58-8c9e-490a-8100-436811586d81",
   "metadata": {},
   "outputs": [],
   "source": []
  }
 ],
 "metadata": {
  "kernelspec": {
   "display_name": "Python 3 (ipykernel)",
   "language": "python",
   "name": "python3"
  },
  "language_info": {
   "codemirror_mode": {
    "name": "ipython",
    "version": 3
   },
   "file_extension": ".py",
   "mimetype": "text/x-python",
   "name": "python",
   "nbconvert_exporter": "python",
   "pygments_lexer": "ipython3",
   "version": "3.9.6"
  }
 },
 "nbformat": 4,
 "nbformat_minor": 5
}
