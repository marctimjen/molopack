{
 "cells": [
  {
   "cell_type": "code",
   "execution_count": 1,
   "id": "6d45a248-50db-4a6a-afa9-750c8c4fc2b8",
   "metadata": {},
   "outputs": [],
   "source": [
    "import sys\n",
    "sys.path.append(\"..\") # adds higher directory to python modules path\n",
    "from IPython.display import display\n",
    "from molopack import vogel"
   ]
  },
  {
   "cell_type": "markdown",
   "id": "1aa9d134-c424-41b7-a910-abfbe0c3acc3",
   "metadata": {},
   "source": [
    "Opgave NET-1, hvor Vogel's approximation bør anvendes:"
   ]
  },
  {
   "cell_type": "code",
   "execution_count": 4,
   "id": "3f83be8e-267e-44cf-8c0e-e08c608ea5b7",
   "metadata": {},
   "outputs": [
    {
     "data": {
      "text/html": [
       "<style type=\"text/css\">\n",
       "#T_e3126 .re {\n",
       "  background-color: #FF0000;\n",
       "}\n",
       "#T_e3126 .bl {\n",
       "  background-color: #0000FF;\n",
       "}\n",
       "#T_e3126 .or {\n",
       "  background-color: #FFA500;\n",
       "}\n",
       "#T_e3126 td {\n",
       "  text-align: center;\n",
       "  font-weight: bold;\n",
       "}\n",
       "</style>\n",
       "<table id=\"T_e3126\">\n",
       "  <thead>\n",
       "    <tr>\n",
       "      <th class=\"blank level0\" >&nbsp;</th>\n",
       "      <th id=\"T_e3126_level0_col0\" class=\"col_heading level0 col0\" >0</th>\n",
       "      <th id=\"T_e3126_level0_col1\" class=\"col_heading level0 col1\" >1</th>\n",
       "      <th id=\"T_e3126_level0_col2\" class=\"col_heading level0 col2\" >2</th>\n",
       "      <th id=\"T_e3126_level0_col3\" class=\"col_heading level0 col3\" >3</th>\n",
       "      <th id=\"T_e3126_level0_col4\" class=\"col_heading level0 col4\" >supply</th>\n",
       "    </tr>\n",
       "  </thead>\n",
       "  <tbody>\n",
       "    <tr>\n",
       "      <th id=\"T_e3126_level0_row0\" class=\"row_heading level0 row0\" >0</th>\n",
       "      <td id=\"T_e3126_row0_col0\" class=\"data row0 col0 bb \" >7</td>\n",
       "      <td id=\"T_e3126_row0_col1\" class=\"data row0 col1 bb \" >11</td>\n",
       "      <td id=\"T_e3126_row0_col2\" class=\"data row0 col2 bb \" >3</td>\n",
       "      <td id=\"T_e3126_row0_col3\" class=\"data row0 col3 bb \" >8</td>\n",
       "      <td id=\"T_e3126_row0_col4\" class=\"data row0 col4 or \" >6</td>\n",
       "    </tr>\n",
       "    <tr>\n",
       "      <th id=\"T_e3126_level0_row1\" class=\"row_heading level0 row1\" >1</th>\n",
       "      <td id=\"T_e3126_row1_col0\" class=\"data row1 col0 re \" >2</td>\n",
       "      <td id=\"T_e3126_row1_col1\" class=\"data row1 col1 bb \" >10</td>\n",
       "      <td id=\"T_e3126_row1_col2\" class=\"data row1 col2 bb \" >1</td>\n",
       "      <td id=\"T_e3126_row1_col3\" class=\"data row1 col3 bb \" >2</td>\n",
       "      <td id=\"T_e3126_row1_col4\" class=\"data row1 col4 or \" >3</td>\n",
       "    </tr>\n",
       "    <tr>\n",
       "      <th id=\"T_e3126_level0_row2\" class=\"row_heading level0 row2\" >2</th>\n",
       "      <td id=\"T_e3126_row2_col0\" class=\"data row2 col0 bb \" >14</td>\n",
       "      <td id=\"T_e3126_row2_col1\" class=\"data row2 col1 bb \" >18</td>\n",
       "      <td id=\"T_e3126_row2_col2\" class=\"data row2 col2 bb \" >8</td>\n",
       "      <td id=\"T_e3126_row2_col3\" class=\"data row2 col3 bb \" >5</td>\n",
       "      <td id=\"T_e3126_row2_col4\" class=\"data row2 col4 or \" >5</td>\n",
       "    </tr>\n",
       "    <tr>\n",
       "      <th id=\"T_e3126_level0_row3\" class=\"row_heading level0 row3\" >3</th>\n",
       "      <td id=\"T_e3126_row3_col0\" class=\"data row3 col0 or \" >2</td>\n",
       "      <td id=\"T_e3126_row3_col1\" class=\"data row3 col1 or \" >3</td>\n",
       "      <td id=\"T_e3126_row3_col2\" class=\"data row3 col2 or \" >2</td>\n",
       "      <td id=\"T_e3126_row3_col3\" class=\"data row3 col3 or \" >7</td>\n",
       "      <td id=\"T_e3126_row3_col4\" class=\"data row3 col4 bb \" >0</td>\n",
       "    </tr>\n",
       "  </tbody>\n",
       "</table>\n"
      ],
      "text/plain": [
       "<pandas.io.formats.style.Styler at 0x212e33dbfa0>"
      ]
     },
     "metadata": {},
     "output_type": "display_data"
    },
    {
     "data": {
      "text/html": [
       "<style type=\"text/css\">\n",
       "#T_bb345 .re {\n",
       "  background-color: #FF0000;\n",
       "}\n",
       "#T_bb345 .bl {\n",
       "  background-color: #0000FF;\n",
       "}\n",
       "#T_bb345 .or {\n",
       "  background-color: #FFA500;\n",
       "}\n",
       "#T_bb345 td {\n",
       "  text-align: center;\n",
       "  font-weight: bold;\n",
       "}\n",
       "</style>\n",
       "<table id=\"T_bb345\">\n",
       "  <thead>\n",
       "    <tr>\n",
       "      <th class=\"blank level0\" >&nbsp;</th>\n",
       "      <th id=\"T_bb345_level0_col0\" class=\"col_heading level0 col0\" >0</th>\n",
       "      <th id=\"T_bb345_level0_col1\" class=\"col_heading level0 col1\" >1</th>\n",
       "      <th id=\"T_bb345_level0_col2\" class=\"col_heading level0 col2\" >2</th>\n",
       "      <th id=\"T_bb345_level0_col3\" class=\"col_heading level0 col3\" >3</th>\n",
       "      <th id=\"T_bb345_level0_col4\" class=\"col_heading level0 col4\" >supply</th>\n",
       "    </tr>\n",
       "  </thead>\n",
       "  <tbody>\n",
       "    <tr>\n",
       "      <th id=\"T_bb345_level0_row0\" class=\"row_heading level0 row0\" >0</th>\n",
       "      <td id=\"T_bb345_row0_col0\" class=\"data row0 col0 bl \" >7</td>\n",
       "      <td id=\"T_bb345_row0_col1\" class=\"data row0 col1 bb \" >11</td>\n",
       "      <td id=\"T_bb345_row0_col2\" class=\"data row0 col2 re \" >3</td>\n",
       "      <td id=\"T_bb345_row0_col3\" class=\"data row0 col3 bb \" >8</td>\n",
       "      <td id=\"T_bb345_row0_col4\" class=\"data row0 col4 or \" >6</td>\n",
       "    </tr>\n",
       "    <tr>\n",
       "      <th id=\"T_bb345_level0_row1\" class=\"row_heading level0 row1\" >1</th>\n",
       "      <td id=\"T_bb345_row1_col0\" class=\"data row1 col0 bl \" >2</td>\n",
       "      <td id=\"T_bb345_row1_col1\" class=\"data row1 col1 bb \" >10</td>\n",
       "      <td id=\"T_bb345_row1_col2\" class=\"data row1 col2 bb \" >1</td>\n",
       "      <td id=\"T_bb345_row1_col3\" class=\"data row1 col3 bb \" >2</td>\n",
       "      <td id=\"T_bb345_row1_col4\" class=\"data row1 col4 or \" >1</td>\n",
       "    </tr>\n",
       "    <tr>\n",
       "      <th id=\"T_bb345_level0_row2\" class=\"row_heading level0 row2\" >2</th>\n",
       "      <td id=\"T_bb345_row2_col0\" class=\"data row2 col0 bl \" >14</td>\n",
       "      <td id=\"T_bb345_row2_col1\" class=\"data row2 col1 bb \" >18</td>\n",
       "      <td id=\"T_bb345_row2_col2\" class=\"data row2 col2 bb \" >8</td>\n",
       "      <td id=\"T_bb345_row2_col3\" class=\"data row2 col3 bb \" >5</td>\n",
       "      <td id=\"T_bb345_row2_col4\" class=\"data row2 col4 or \" >5</td>\n",
       "    </tr>\n",
       "    <tr>\n",
       "      <th id=\"T_bb345_level0_row3\" class=\"row_heading level0 row3\" >3</th>\n",
       "      <td id=\"T_bb345_row3_col0\" class=\"data row3 col0 bl \" >0</td>\n",
       "      <td id=\"T_bb345_row3_col1\" class=\"data row3 col1 or \" >3</td>\n",
       "      <td id=\"T_bb345_row3_col2\" class=\"data row3 col2 or \" >2</td>\n",
       "      <td id=\"T_bb345_row3_col3\" class=\"data row3 col3 or \" >7</td>\n",
       "      <td id=\"T_bb345_row3_col4\" class=\"data row3 col4 bb \" >0</td>\n",
       "    </tr>\n",
       "  </tbody>\n",
       "</table>\n"
      ],
      "text/plain": [
       "<pandas.io.formats.style.Styler at 0x212e3c34550>"
      ]
     },
     "metadata": {},
     "output_type": "display_data"
    },
    {
     "data": {
      "text/html": [
       "<style type=\"text/css\">\n",
       "#T_f9105 .re {\n",
       "  background-color: #FF0000;\n",
       "}\n",
       "#T_f9105 .bl {\n",
       "  background-color: #0000FF;\n",
       "}\n",
       "#T_f9105 .or {\n",
       "  background-color: #FFA500;\n",
       "}\n",
       "#T_f9105 td {\n",
       "  text-align: center;\n",
       "  font-weight: bold;\n",
       "}\n",
       "</style>\n",
       "<table id=\"T_f9105\">\n",
       "  <thead>\n",
       "    <tr>\n",
       "      <th class=\"blank level0\" >&nbsp;</th>\n",
       "      <th id=\"T_f9105_level0_col0\" class=\"col_heading level0 col0\" >0</th>\n",
       "      <th id=\"T_f9105_level0_col1\" class=\"col_heading level0 col1\" >1</th>\n",
       "      <th id=\"T_f9105_level0_col2\" class=\"col_heading level0 col2\" >2</th>\n",
       "      <th id=\"T_f9105_level0_col3\" class=\"col_heading level0 col3\" >3</th>\n",
       "      <th id=\"T_f9105_level0_col4\" class=\"col_heading level0 col4\" >supply</th>\n",
       "    </tr>\n",
       "  </thead>\n",
       "  <tbody>\n",
       "    <tr>\n",
       "      <th id=\"T_f9105_level0_row0\" class=\"row_heading level0 row0\" >0</th>\n",
       "      <td id=\"T_f9105_row0_col0\" class=\"data row0 col0 bl \" >7</td>\n",
       "      <td id=\"T_f9105_row0_col1\" class=\"data row0 col1 bb \" >11</td>\n",
       "      <td id=\"T_f9105_row0_col2\" class=\"data row0 col2 bl \" >3</td>\n",
       "      <td id=\"T_f9105_row0_col3\" class=\"data row0 col3 bb \" >8</td>\n",
       "      <td id=\"T_f9105_row0_col4\" class=\"data row0 col4 or \" >4</td>\n",
       "    </tr>\n",
       "    <tr>\n",
       "      <th id=\"T_f9105_level0_row1\" class=\"row_heading level0 row1\" >1</th>\n",
       "      <td id=\"T_f9105_row1_col0\" class=\"data row1 col0 bl \" >2</td>\n",
       "      <td id=\"T_f9105_row1_col1\" class=\"data row1 col1 bb \" >10</td>\n",
       "      <td id=\"T_f9105_row1_col2\" class=\"data row1 col2 bl \" >1</td>\n",
       "      <td id=\"T_f9105_row1_col3\" class=\"data row1 col3 bb \" >2</td>\n",
       "      <td id=\"T_f9105_row1_col4\" class=\"data row1 col4 or \" >1</td>\n",
       "    </tr>\n",
       "    <tr>\n",
       "      <th id=\"T_f9105_level0_row2\" class=\"row_heading level0 row2\" >2</th>\n",
       "      <td id=\"T_f9105_row2_col0\" class=\"data row2 col0 bl \" >14</td>\n",
       "      <td id=\"T_f9105_row2_col1\" class=\"data row2 col1 bb \" >18</td>\n",
       "      <td id=\"T_f9105_row2_col2\" class=\"data row2 col2 bl \" >8</td>\n",
       "      <td id=\"T_f9105_row2_col3\" class=\"data row2 col3 re \" >5</td>\n",
       "      <td id=\"T_f9105_row2_col4\" class=\"data row2 col4 or \" >5</td>\n",
       "    </tr>\n",
       "    <tr>\n",
       "      <th id=\"T_f9105_level0_row3\" class=\"row_heading level0 row3\" >3</th>\n",
       "      <td id=\"T_f9105_row3_col0\" class=\"data row3 col0 bl \" >0</td>\n",
       "      <td id=\"T_f9105_row3_col1\" class=\"data row3 col1 or \" >3</td>\n",
       "      <td id=\"T_f9105_row3_col2\" class=\"data row3 col2 bl \" >0</td>\n",
       "      <td id=\"T_f9105_row3_col3\" class=\"data row3 col3 or \" >7</td>\n",
       "      <td id=\"T_f9105_row3_col4\" class=\"data row3 col4 bb \" >0</td>\n",
       "    </tr>\n",
       "  </tbody>\n",
       "</table>\n"
      ],
      "text/plain": [
       "<pandas.io.formats.style.Styler at 0x212e1135af0>"
      ]
     },
     "metadata": {},
     "output_type": "display_data"
    },
    {
     "data": {
      "text/html": [
       "<style type=\"text/css\">\n",
       "#T_aace0 .re {\n",
       "  background-color: #FF0000;\n",
       "}\n",
       "#T_aace0 .bl {\n",
       "  background-color: #0000FF;\n",
       "}\n",
       "#T_aace0 .or {\n",
       "  background-color: #FFA500;\n",
       "}\n",
       "#T_aace0 td {\n",
       "  text-align: center;\n",
       "  font-weight: bold;\n",
       "}\n",
       "</style>\n",
       "<table id=\"T_aace0\">\n",
       "  <thead>\n",
       "    <tr>\n",
       "      <th class=\"blank level0\" >&nbsp;</th>\n",
       "      <th id=\"T_aace0_level0_col0\" class=\"col_heading level0 col0\" >0</th>\n",
       "      <th id=\"T_aace0_level0_col1\" class=\"col_heading level0 col1\" >1</th>\n",
       "      <th id=\"T_aace0_level0_col2\" class=\"col_heading level0 col2\" >2</th>\n",
       "      <th id=\"T_aace0_level0_col3\" class=\"col_heading level0 col3\" >3</th>\n",
       "      <th id=\"T_aace0_level0_col4\" class=\"col_heading level0 col4\" >supply</th>\n",
       "    </tr>\n",
       "  </thead>\n",
       "  <tbody>\n",
       "    <tr>\n",
       "      <th id=\"T_aace0_level0_row0\" class=\"row_heading level0 row0\" >0</th>\n",
       "      <td id=\"T_aace0_row0_col0\" class=\"data row0 col0 bl \" >7</td>\n",
       "      <td id=\"T_aace0_row0_col1\" class=\"data row0 col1 bb \" >11</td>\n",
       "      <td id=\"T_aace0_row0_col2\" class=\"data row0 col2 bl \" >3</td>\n",
       "      <td id=\"T_aace0_row0_col3\" class=\"data row0 col3 bb \" >8</td>\n",
       "      <td id=\"T_aace0_row0_col4\" class=\"data row0 col4 or \" >4</td>\n",
       "    </tr>\n",
       "    <tr>\n",
       "      <th id=\"T_aace0_level0_row1\" class=\"row_heading level0 row1\" >1</th>\n",
       "      <td id=\"T_aace0_row1_col0\" class=\"data row1 col0 bl \" >2</td>\n",
       "      <td id=\"T_aace0_row1_col1\" class=\"data row1 col1 bb \" >10</td>\n",
       "      <td id=\"T_aace0_row1_col2\" class=\"data row1 col2 bl \" >1</td>\n",
       "      <td id=\"T_aace0_row1_col3\" class=\"data row1 col3 re \" >2</td>\n",
       "      <td id=\"T_aace0_row1_col4\" class=\"data row1 col4 or \" >1</td>\n",
       "    </tr>\n",
       "    <tr>\n",
       "      <th id=\"T_aace0_level0_row2\" class=\"row_heading level0 row2\" >2</th>\n",
       "      <td id=\"T_aace0_row2_col0\" class=\"data row2 col0 bl \" >14</td>\n",
       "      <td id=\"T_aace0_row2_col1\" class=\"data row2 col1 bl \" >18</td>\n",
       "      <td id=\"T_aace0_row2_col2\" class=\"data row2 col2 bl \" >8</td>\n",
       "      <td id=\"T_aace0_row2_col3\" class=\"data row2 col3 bl \" >5</td>\n",
       "      <td id=\"T_aace0_row2_col4\" class=\"data row2 col4 bl \" >0</td>\n",
       "    </tr>\n",
       "    <tr>\n",
       "      <th id=\"T_aace0_level0_row3\" class=\"row_heading level0 row3\" >3</th>\n",
       "      <td id=\"T_aace0_row3_col0\" class=\"data row3 col0 bl \" >0</td>\n",
       "      <td id=\"T_aace0_row3_col1\" class=\"data row3 col1 or \" >3</td>\n",
       "      <td id=\"T_aace0_row3_col2\" class=\"data row3 col2 bl \" >0</td>\n",
       "      <td id=\"T_aace0_row3_col3\" class=\"data row3 col3 or \" >2</td>\n",
       "      <td id=\"T_aace0_row3_col4\" class=\"data row3 col4 bb \" >0</td>\n",
       "    </tr>\n",
       "  </tbody>\n",
       "</table>\n"
      ],
      "text/plain": [
       "<pandas.io.formats.style.Styler at 0x212e42bfe20>"
      ]
     },
     "metadata": {},
     "output_type": "display_data"
    },
    {
     "name": "stdout",
     "output_type": "stream",
     "text": [
      "Vogels approximation:\n",
      "[[0 3 2 1]\n",
      " [2 0 0 1]\n",
      " [0 0 0 5]]\n",
      "\n",
      "Cost of this is:\n",
      "78\n"
     ]
    },
    {
     "data": {
      "text/plain": [
       "array([[0, 3, 2, 1],\n",
       "       [2, 0, 0, 1],\n",
       "       [0, 0, 0, 5]])"
      ]
     },
     "execution_count": 4,
     "metadata": {},
     "output_type": "execute_result"
    }
   ],
   "source": [
    "supply = [6, 3, 5]\n",
    "demand = [2, 3, 2, 7]\n",
    "\n",
    "costs = [[7, 11, 3, 8],\n",
    "         [2, 10, 1, 2],\n",
    "         [14, 18, 8, 5]]\n",
    "\n",
    "vogel(supply, demand, costs, True)"
   ]
  },
  {
   "cell_type": "code",
   "execution_count": 5,
   "id": "9b5bf590-c761-488e-9725-32fb90b0b1c9",
   "metadata": {},
   "outputs": [
    {
     "ename": "ValueError",
     "evalue": "Shape of passed values is (5, 5), indices imply (4, 6)",
     "output_type": "error",
     "traceback": [
      "\u001b[1;31m---------------------------------------------------------------------------\u001b[0m",
      "\u001b[1;31mValueError\u001b[0m                                Traceback (most recent call last)",
      "Input \u001b[1;32mIn [5]\u001b[0m, in \u001b[0;36m<module>\u001b[1;34m\u001b[0m\n\u001b[0;32m      2\u001b[0m demand \u001b[38;5;241m=\u001b[39m [\u001b[38;5;241m2\u001b[39m, \u001b[38;5;241m2\u001b[39m, \u001b[38;5;241m4\u001b[39m, \u001b[38;5;241m4\u001b[39m, \u001b[38;5;241m4\u001b[39m]\n\u001b[0;32m      3\u001b[0m costs \u001b[38;5;241m=\u001b[39m [[\u001b[38;5;241m10\u001b[39m, \u001b[38;5;241m1\u001b[39m, \u001b[38;5;241m1\u001b[39m, \u001b[38;5;241m1\u001b[39m, \u001b[38;5;241m1\u001b[39m],\n\u001b[0;32m      4\u001b[0m          [\u001b[38;5;241m1\u001b[39m, \u001b[38;5;241m1\u001b[39m, \u001b[38;5;241m1\u001b[39m, \u001b[38;5;241m1\u001b[39m, \u001b[38;5;241m1\u001b[39m],\n\u001b[0;32m      5\u001b[0m          [\u001b[38;5;241m1\u001b[39m, \u001b[38;5;241m1\u001b[39m, \u001b[38;5;241m1\u001b[39m, \u001b[38;5;241m1\u001b[39m, \u001b[38;5;241m50\u001b[39m]]\n\u001b[1;32m----> 7\u001b[0m \u001b[43mvogel\u001b[49m\u001b[43m(\u001b[49m\u001b[43msupply\u001b[49m\u001b[43m,\u001b[49m\u001b[43m \u001b[49m\u001b[43mdemand\u001b[49m\u001b[43m,\u001b[49m\u001b[43m \u001b[49m\u001b[43mcosts\u001b[49m\u001b[43m,\u001b[49m\u001b[43m \u001b[49m\u001b[38;5;28;43;01mTrue\u001b[39;49;00m\u001b[43m)\u001b[49m\n",
      "File \u001b[1;32m~\\anaconda3\\envs\\molo\\lib\\site-packages\\molopack\\vogel.py:94\u001b[0m, in \u001b[0;36mvogel\u001b[1;34m(S, T, costs, printe)\u001b[0m\n\u001b[0;32m     92\u001b[0m idx_c \u001b[38;5;241m=\u001b[39m np\u001b[38;5;241m.\u001b[39mnanargmin(nan_gen(t, cost[idx_r, t]))\n\u001b[0;32m     93\u001b[0m send \u001b[38;5;241m=\u001b[39m \u001b[38;5;28mmin\u001b[39m([sup[idx_r], tar[idx_c]])\n\u001b[1;32m---> 94\u001b[0m \u001b[43mprinter\u001b[49m\u001b[43m(\u001b[49m\u001b[43mcost\u001b[49m\u001b[43m,\u001b[49m\u001b[43m \u001b[49m\u001b[43msup\u001b[49m\u001b[43m,\u001b[49m\u001b[43m \u001b[49m\u001b[43mtar\u001b[49m\u001b[43m,\u001b[49m\u001b[43m \u001b[49m\u001b[43midx_r\u001b[49m\u001b[43m,\u001b[49m\u001b[43m \u001b[49m\u001b[43midx_c\u001b[49m\u001b[43m,\u001b[49m\u001b[43m \u001b[49m\u001b[43ms\u001b[49m\u001b[43m,\u001b[49m\u001b[43m \u001b[49m\u001b[43mt\u001b[49m\u001b[43m,\u001b[49m\u001b[43m \u001b[49m\u001b[38;5;28;43mbool\u001b[39;49m\u001b[43m \u001b[49m\u001b[38;5;241;43m=\u001b[39;49m\u001b[43m \u001b[49m\u001b[43mprinte\u001b[49m\u001b[43m)\u001b[49m\n\u001b[0;32m     95\u001b[0m out[idx_r, idx_c] \u001b[38;5;241m=\u001b[39m send\n\u001b[0;32m     97\u001b[0m sup[idx_r] \u001b[38;5;241m=\u001b[39m sup[idx_r] \u001b[38;5;241m-\u001b[39m send\n",
      "File \u001b[1;32m~\\anaconda3\\envs\\molo\\lib\\site-packages\\molopack\\vogel.py:52\u001b[0m, in \u001b[0;36mprinter\u001b[1;34m(cost, sup, tar, idx_r, idx_c, s, t, bool)\u001b[0m\n\u001b[0;32m     50\u001b[0m \u001b[38;5;28;01mdef\u001b[39;00m \u001b[38;5;21mprinter\u001b[39m(cost, sup, tar, idx_r, idx_c, s, t, \u001b[38;5;28mbool\u001b[39m \u001b[38;5;241m=\u001b[39m \u001b[38;5;28;01mFalse\u001b[39;00m):\n\u001b[0;32m     51\u001b[0m     \u001b[38;5;28;01mif\u001b[39;00m \u001b[38;5;28mbool\u001b[39m:\n\u001b[1;32m---> 52\u001b[0m         display(\u001b[43mprint_table\u001b[49m\u001b[43m(\u001b[49m\u001b[43mcost\u001b[49m\u001b[43m,\u001b[49m\u001b[43m \u001b[49m\u001b[43msup\u001b[49m\u001b[43m,\u001b[49m\u001b[43m \u001b[49m\u001b[43mtar\u001b[49m\u001b[43m,\u001b[49m\u001b[43m \u001b[49m\u001b[43midx_r\u001b[49m\u001b[43m,\u001b[49m\u001b[43m \u001b[49m\u001b[43midx_c\u001b[49m\u001b[43m,\u001b[49m\u001b[43m \u001b[49m\u001b[43ms\u001b[49m\u001b[43m,\u001b[49m\u001b[43m \u001b[49m\u001b[43mt\u001b[49m\u001b[43m)\u001b[49m)\n",
      "File \u001b[1;32m~\\anaconda3\\envs\\molo\\lib\\site-packages\\molopack\\vogel.py:43\u001b[0m, in \u001b[0;36mprint_table\u001b[1;34m(mat, sup, tar, i, j, s, t)\u001b[0m\n\u001b[0;32m     33\u001b[0m         c_mat[\u001b[38;5;241m.\u001b[39m\u001b[38;5;241m.\u001b[39m\u001b[38;5;241m.\u001b[39m, i] \u001b[38;5;241m=\u001b[39m \u001b[38;5;124m'\u001b[39m\u001b[38;5;124mbl \u001b[39m\u001b[38;5;124m'\u001b[39m\n\u001b[0;32m     36\u001b[0m \u001b[38;5;66;03m#cell_color = pd.DataFrame(np.array([['re ', 're ', 're ', 're', 'or '],\u001b[39;00m\n\u001b[0;32m     37\u001b[0m \u001b[38;5;66;03m#                           ['re ', 'bl ', 'bl ', 're', 'or '],\u001b[39;00m\n\u001b[0;32m     38\u001b[0m \u001b[38;5;66;03m#                           ['re ', 're ', 're ', 're', 'or '],\u001b[39;00m\n\u001b[0;32m     39\u001b[0m \u001b[38;5;66;03m#                           ['or ', 'or ', 'or ', 'or ', 'bb ']]),\u001b[39;00m\n\u001b[0;32m     40\u001b[0m \u001b[38;5;66;03m#                      index=pd_df.index,\u001b[39;00m\n\u001b[0;32m     41\u001b[0m \u001b[38;5;66;03m#                      columns=pd_df.columns[:10])\u001b[39;00m\n\u001b[1;32m---> 43\u001b[0m cell_color \u001b[38;5;241m=\u001b[39m \u001b[43mpd\u001b[49m\u001b[38;5;241;43m.\u001b[39;49m\u001b[43mDataFrame\u001b[49m\u001b[43m(\u001b[49m\u001b[43mc_mat\u001b[49m\u001b[43m,\u001b[49m\n\u001b[0;32m     44\u001b[0m \u001b[43m                      \u001b[49m\u001b[43mindex\u001b[49m\u001b[38;5;241;43m=\u001b[39;49m\u001b[43mpd_df\u001b[49m\u001b[38;5;241;43m.\u001b[39;49m\u001b[43mindex\u001b[49m\u001b[43m,\u001b[49m\n\u001b[0;32m     45\u001b[0m \u001b[43m                      \u001b[49m\u001b[43mcolumns\u001b[49m\u001b[38;5;241;43m=\u001b[39;49m\u001b[43mpd_df\u001b[49m\u001b[38;5;241;43m.\u001b[39;49m\u001b[43mcolumns\u001b[49m\u001b[43m[\u001b[49m\u001b[43m:\u001b[49m\u001b[38;5;241;43m10\u001b[39;49m\u001b[43m]\u001b[49m\u001b[43m)\u001b[49m\n\u001b[0;32m     46\u001b[0m q\u001b[38;5;241m.\u001b[39mset_td_classes(cell_color)\n\u001b[0;32m     48\u001b[0m \u001b[38;5;28;01mreturn\u001b[39;00m q\n",
      "File \u001b[1;32m~\\anaconda3\\envs\\molo\\lib\\site-packages\\pandas\\core\\frame.py:694\u001b[0m, in \u001b[0;36mDataFrame.__init__\u001b[1;34m(self, data, index, columns, dtype, copy)\u001b[0m\n\u001b[0;32m    684\u001b[0m         mgr \u001b[38;5;241m=\u001b[39m dict_to_mgr(\n\u001b[0;32m    685\u001b[0m             \u001b[38;5;66;03m# error: Item \"ndarray\" of \"Union[ndarray, Series, Index]\" has no\u001b[39;00m\n\u001b[0;32m    686\u001b[0m             \u001b[38;5;66;03m# attribute \"name\"\u001b[39;00m\n\u001b[1;32m   (...)\u001b[0m\n\u001b[0;32m    691\u001b[0m             typ\u001b[38;5;241m=\u001b[39mmanager,\n\u001b[0;32m    692\u001b[0m         )\n\u001b[0;32m    693\u001b[0m     \u001b[38;5;28;01melse\u001b[39;00m:\n\u001b[1;32m--> 694\u001b[0m         mgr \u001b[38;5;241m=\u001b[39m \u001b[43mndarray_to_mgr\u001b[49m\u001b[43m(\u001b[49m\n\u001b[0;32m    695\u001b[0m \u001b[43m            \u001b[49m\u001b[43mdata\u001b[49m\u001b[43m,\u001b[49m\n\u001b[0;32m    696\u001b[0m \u001b[43m            \u001b[49m\u001b[43mindex\u001b[49m\u001b[43m,\u001b[49m\n\u001b[0;32m    697\u001b[0m \u001b[43m            \u001b[49m\u001b[43mcolumns\u001b[49m\u001b[43m,\u001b[49m\n\u001b[0;32m    698\u001b[0m \u001b[43m            \u001b[49m\u001b[43mdtype\u001b[49m\u001b[38;5;241;43m=\u001b[39;49m\u001b[43mdtype\u001b[49m\u001b[43m,\u001b[49m\n\u001b[0;32m    699\u001b[0m \u001b[43m            \u001b[49m\u001b[43mcopy\u001b[49m\u001b[38;5;241;43m=\u001b[39;49m\u001b[43mcopy\u001b[49m\u001b[43m,\u001b[49m\n\u001b[0;32m    700\u001b[0m \u001b[43m            \u001b[49m\u001b[43mtyp\u001b[49m\u001b[38;5;241;43m=\u001b[39;49m\u001b[43mmanager\u001b[49m\u001b[43m,\u001b[49m\n\u001b[0;32m    701\u001b[0m \u001b[43m        \u001b[49m\u001b[43m)\u001b[49m\n\u001b[0;32m    703\u001b[0m \u001b[38;5;66;03m# For data is list-like, or Iterable (will consume into list)\u001b[39;00m\n\u001b[0;32m    704\u001b[0m \u001b[38;5;28;01melif\u001b[39;00m is_list_like(data):\n",
      "File \u001b[1;32m~\\anaconda3\\envs\\molo\\lib\\site-packages\\pandas\\core\\internals\\construction.py:351\u001b[0m, in \u001b[0;36mndarray_to_mgr\u001b[1;34m(values, index, columns, dtype, copy, typ)\u001b[0m\n\u001b[0;32m    346\u001b[0m \u001b[38;5;66;03m# _prep_ndarray ensures that values.ndim == 2 at this point\u001b[39;00m\n\u001b[0;32m    347\u001b[0m index, columns \u001b[38;5;241m=\u001b[39m _get_axes(\n\u001b[0;32m    348\u001b[0m     values\u001b[38;5;241m.\u001b[39mshape[\u001b[38;5;241m0\u001b[39m], values\u001b[38;5;241m.\u001b[39mshape[\u001b[38;5;241m1\u001b[39m], index\u001b[38;5;241m=\u001b[39mindex, columns\u001b[38;5;241m=\u001b[39mcolumns\n\u001b[0;32m    349\u001b[0m )\n\u001b[1;32m--> 351\u001b[0m \u001b[43m_check_values_indices_shape_match\u001b[49m\u001b[43m(\u001b[49m\u001b[43mvalues\u001b[49m\u001b[43m,\u001b[49m\u001b[43m \u001b[49m\u001b[43mindex\u001b[49m\u001b[43m,\u001b[49m\u001b[43m \u001b[49m\u001b[43mcolumns\u001b[49m\u001b[43m)\u001b[49m\n\u001b[0;32m    353\u001b[0m \u001b[38;5;28;01mif\u001b[39;00m typ \u001b[38;5;241m==\u001b[39m \u001b[38;5;124m\"\u001b[39m\u001b[38;5;124marray\u001b[39m\u001b[38;5;124m\"\u001b[39m:\n\u001b[0;32m    355\u001b[0m     \u001b[38;5;28;01mif\u001b[39;00m \u001b[38;5;28missubclass\u001b[39m(values\u001b[38;5;241m.\u001b[39mdtype\u001b[38;5;241m.\u001b[39mtype, \u001b[38;5;28mstr\u001b[39m):\n",
      "File \u001b[1;32m~\\anaconda3\\envs\\molo\\lib\\site-packages\\pandas\\core\\internals\\construction.py:422\u001b[0m, in \u001b[0;36m_check_values_indices_shape_match\u001b[1;34m(values, index, columns)\u001b[0m\n\u001b[0;32m    420\u001b[0m passed \u001b[38;5;241m=\u001b[39m values\u001b[38;5;241m.\u001b[39mshape\n\u001b[0;32m    421\u001b[0m implied \u001b[38;5;241m=\u001b[39m (\u001b[38;5;28mlen\u001b[39m(index), \u001b[38;5;28mlen\u001b[39m(columns))\n\u001b[1;32m--> 422\u001b[0m \u001b[38;5;28;01mraise\u001b[39;00m \u001b[38;5;167;01mValueError\u001b[39;00m(\u001b[38;5;124mf\u001b[39m\u001b[38;5;124m\"\u001b[39m\u001b[38;5;124mShape of passed values is \u001b[39m\u001b[38;5;132;01m{\u001b[39;00mpassed\u001b[38;5;132;01m}\u001b[39;00m\u001b[38;5;124m, indices imply \u001b[39m\u001b[38;5;132;01m{\u001b[39;00mimplied\u001b[38;5;132;01m}\u001b[39;00m\u001b[38;5;124m\"\u001b[39m)\n",
      "\u001b[1;31mValueError\u001b[0m: Shape of passed values is (5, 5), indices imply (4, 6)"
     ]
    }
   ],
   "source": [
    "supply = [5, 5, 6]\n",
    "demand = [2, 2, 4, 4, 4]\n",
    "costs = [[10, 1, 1, 1, 1],\n",
    "         [1, 1, 1, 1, 1],\n",
    "         [1, 1, 1, 1, 50]]\n",
    "\n",
    "vogel(supply, demand, costs, True)"
   ]
  },
  {
   "cell_type": "code",
   "execution_count": 13,
   "id": "3b930a44-30f5-4079-9a02-a988d9893633",
   "metadata": {},
   "outputs": [
    {
     "name": "stdout",
     "output_type": "stream",
     "text": [
      "Vogels approximation:\n",
      "[[ 0 15 35]\n",
      " [20 20  0]\n",
      " [ 0 60  0]]\n",
      "\n",
      "Cost of this is:\n",
      "555\n"
     ]
    },
    {
     "data": {
      "text/plain": [
       "array([[ 0, 15, 35],\n",
       "       [20, 20,  0],\n",
       "       [ 0, 60,  0]])"
      ]
     },
     "execution_count": 13,
     "metadata": {},
     "output_type": "execute_result"
    }
   ],
   "source": [
    "supply = [50, 40, 60]\n",
    "demand = [20, 95, 35]\n",
    "costs = [[6, 4, 1],\n",
    "         [3, 8, 7],\n",
    "         [4, 4, 2]]\n",
    "\n",
    "vogel(supply, demand, costs)"
   ]
  },
  {
   "cell_type": "code",
   "execution_count": null,
   "id": "24049f58-8c9e-490a-8100-436811586d81",
   "metadata": {},
   "outputs": [],
   "source": []
  }
 ],
 "metadata": {
  "kernelspec": {
   "display_name": "Python 3 (ipykernel)",
   "language": "python",
   "name": "python3"
  },
  "language_info": {
   "codemirror_mode": {
    "name": "ipython",
    "version": 3
   },
   "file_extension": ".py",
   "mimetype": "text/x-python",
   "name": "python",
   "nbconvert_exporter": "python",
   "pygments_lexer": "ipython3",
   "version": "3.9.6"
  }
 },
 "nbformat": 4,
 "nbformat_minor": 5
}
