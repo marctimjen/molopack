{
 "cells": [
  {
   "cell_type": "markdown",
   "metadata": {},
   "source": [
    "# Disclaimer:\n",
    "kræver at du har cplex, da koden virker ved at skrive til .txt filer og så køre cplex på de filer vha. systemkald \\\n",
    "kræver også python >3.8 \\\n",
    "derud over er det lidt 50/50 om det virker, da den reelt kun er testet på 1 eksempel."
   ]
  },
  {
   "cell_type": "code",
   "execution_count": null,
   "metadata": {},
   "outputs": [],
   "source": [
    "import sys\n",
    "sys.path.append(\"..\") # adds higher directory to python modules path"
   ]
  },
  {
   "cell_type": "code",
   "execution_count": 2,
   "metadata": {},
   "outputs": [],
   "source": [
    "import os\n",
    "#cwd = os.getcwd()\n",
    "#os.chdir(\"C:\\\\sti\\\\til\\\\der\\\\hvor\\\\du\\\\vil\\\\filerne\\\\til\\\\at\\\\ligge\")"
   ]
  },
  {
   "cell_type": "code",
   "execution_count": 3,
   "metadata": {},
   "outputs": [
    {
     "name": "stdout",
     "output_type": "stream",
     "text": [
      "iteration=0\n",
      "n_rolls=[2, 4, 5, 6]\n",
      "\n",
      "CS-MasterLP-1.lp\n",
      "Minimize\n",
      "g1 + g2 + g3 + g4\n",
      "Subject To\n",
      "2 g1 >= 20\n",
      "4 g2 >= 31\n",
      "5 g3 >= 27\n",
      "6 g4 >= 23\n",
      "End\n",
      "\n",
      "CS-KolGen-1.lp\n",
      "Maximize\n",
      "0.5000 a1 + 0.2500 a2 + 0.2000 a3 + 0.1667 a4\n",
      "Subject To\n",
      "7 a1 + 5 a2 + 4 a3 + 3 a4 <= 20\n",
      "General\n",
      "a1\n",
      "a2\n",
      "a3\n",
      "a4\n",
      "End\n",
      "obj: 1.3334 \n",
      "\n",
      "iteration=1\n",
      "n_rolls=[2, 4, 5, 6]\n",
      "\n",
      "CS-MasterLP-2.lp\n",
      "Minimize\n",
      "g1 + g2 + g3 + g4 + g5\n",
      "Subject To\n",
      "2 g1 + 2 g5 >= 20\n",
      "4 g2 >= 31\n",
      "5 g3 >= 27\n",
      "6 g4 + 2 g5 >= 23\n",
      "End\n",
      "\n",
      "CS-KolGen-2.lp\n",
      "Maximize\n",
      "0.3333 a1 + 0.2500 a2 + 0.2000 a3 + 0.1667 a4\n",
      "Subject To\n",
      "7 a1 + 5 a2 + 4 a3 + 3 a4 <= 20\n",
      "General\n",
      "a1\n",
      "a2\n",
      "a3\n",
      "a4\n",
      "End\n",
      "obj: 1.0835 \n",
      "\n",
      "iteration=2\n",
      "n_rolls=[2, 4, 5, 6]\n",
      "\n",
      "CS-MasterLP-3.lp\n",
      "Minimize\n",
      "g1 + g2 + g3 + g4 + g5 + g6\n",
      "Subject To\n",
      "2 g1 + 2 g5 >= 20\n",
      "4 g2 + 1 g6 >= 31\n",
      "5 g3 >= 27\n",
      "6 g4 + 2 g5 + 5 g6 >= 23\n",
      "End\n",
      "\n",
      "CS-KolGen-3.lp\n",
      "Maximize\n",
      "0.3500 a1 + 0.2500 a2 + 0.2000 a3 + 0.1500 a4\n",
      "Subject To\n",
      "7 a1 + 5 a2 + 4 a3 + 3 a4 <= 20\n",
      "General\n",
      "a1\n",
      "a2\n",
      "a3\n",
      "a4\n",
      "End\n",
      "obj: 1.0 \n",
      "\n",
      "Løsning:\n",
      "g6: 0.600000\n",
      "g5: 10.000000\n",
      "g3: 5.400000\n",
      "g2: 7.600000\n"
     ]
    }
   ],
   "source": [
    "#husk at slette filerne fra forrige gang før du kører koden igen, ellers brokker Python sig\n",
    "kolonne_generering(wides=[7, 5, 4, 3], demand=[20, 31, 27, 23], C=20)"
   ]
  },
  {
   "cell_type": "code",
   "execution_count": 4,
   "metadata": {},
   "outputs": [
    {
     "name": "stdout",
     "output_type": "stream",
     "text": [
      "Minimize\n",
      "g1 + g2 + g3 + g4\n",
      "Subject To\n",
      "2 g1 >= 20\n",
      "4 g2 >= 31\n",
      "5 g3 >= 27\n",
      "6 g4 >= 23\n",
      "End\n"
     ]
    }
   ],
   "source": [
    "with open(\"CS-MasterLP-1.lp\") as f:\n",
    "    print(f.read())"
   ]
  },
  {
   "cell_type": "code",
   "execution_count": 5,
   "metadata": {},
   "outputs": [
    {
     "name": "stdout",
     "output_type": "stream",
     "text": [
      "Maximize\n",
      "0.5000 a1 + 0.2500 a2 + 0.2000 a3 + 0.1667 a4\n",
      "Subject To\n",
      "7 a1 + 5 a2 + 4 a3 + 3 a4 <= 20\n",
      "General\n",
      "a1\n",
      "a2\n",
      "a3\n",
      "a4\n",
      "End\n"
     ]
    }
   ],
   "source": [
    "with open(\"CS-KolGen-1.lp\") as f:\n",
    "    print(f.read())"
   ]
  },
  {
   "cell_type": "code",
   "execution_count": null,
   "metadata": {},
   "outputs": [],
   "source": []
  }
 ],
 "metadata": {
  "kernelspec": {
   "display_name": "Python 3 (ipykernel)",
   "language": "python",
   "name": "python3"
  },
  "language_info": {
   "codemirror_mode": {
    "name": "ipython",
    "version": 3
   },
   "file_extension": ".py",
   "mimetype": "text/x-python",
   "name": "python",
   "nbconvert_exporter": "python",
   "pygments_lexer": "ipython3",
   "version": "3.10.3"
  }
 },
 "nbformat": 4,
 "nbformat_minor": 4
}
