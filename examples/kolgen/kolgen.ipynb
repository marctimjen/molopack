{
 "cells": [
  {
   "cell_type": "markdown",
   "metadata": {},
   "source": [
    "# Disclaimer:\n",
    "kræver at du har cplex, da koden virker ved at skrive til .txt filer og så køre cplex på de filer vha. systemkald \\\n",
    "kræver også python >3.8 \\\n",
    "derud over er det lidt 50/50 om det virker, da den reelt kun er testet på 1 eksempel."
   ]
  },
  {
   "cell_type": "code",
   "execution_count": 1,
   "metadata": {},
   "outputs": [],
   "source": [
    "import sys\n",
    "sys.path.append(\"../..\") # adds higher directory to python modules path"
   ]
  },
  {
   "cell_type": "code",
   "execution_count": 2,
   "metadata": {},
   "outputs": [
    {
     "ename": "SyntaxError",
     "evalue": "invalid syntax (kolgen.py, line 39)",
     "output_type": "error",
     "traceback": [
      "Traceback \u001b[1;36m(most recent call last)\u001b[0m:\n",
      "  File \u001b[0;32m~\\anaconda3\\envs\\molo\\lib\\site-packages\\IPython\\core\\interactiveshell.py:3398\u001b[0m in \u001b[0;35mrun_code\u001b[0m\n    exec(code_obj, self.user_global_ns, self.user_ns)\n",
      "  Input \u001b[0;32mIn [2]\u001b[0m in \u001b[0;35m<cell line: 1>\u001b[0m\n    from molopack import kolonne_generering\n",
      "\u001b[1;36m  File \u001b[1;32m~\\Documents\\GitHub\\molopack\\examples\\kolgen\\../..\\molopack\\__init__.py:10\u001b[1;36m in \u001b[1;35m<module>\u001b[1;36m\u001b[0m\n\u001b[1;33m    from .kolgen import kolonne_generering as kolonne_generering\u001b[0m\n",
      "\u001b[1;36m  File \u001b[1;32m~\\Documents\\GitHub\\molopack\\examples\\kolgen\\../..\\molopack\\kolgen.py:39\u001b[1;36m\u001b[0m\n\u001b[1;33m    master = !cplex -c {\"read \" + master_name} \"display problem all\" \"optimize\" \"display solution variables *\" \"display sensitivity rhs *\"\u001b[0m\n\u001b[1;37m             ^\u001b[0m\n\u001b[1;31mSyntaxError\u001b[0m\u001b[1;31m:\u001b[0m invalid syntax\n"
     ]
    }
   ],
   "source": [
    "from molopack import kolonne_generering"
   ]
  },
  {
   "cell_type": "code",
   "execution_count": null,
   "metadata": {},
   "outputs": [],
   "source": [
    "import os\n",
    "#cwd = os.getcwd()\n",
    "#os.chdir(\"C:\\\\sti\\\\til\\\\der\\\\hvor\\\\du\\\\vil\\\\filerne\\\\til\\\\at\\\\ligge\")"
   ]
  },
  {
   "cell_type": "code",
   "execution_count": null,
   "metadata": {},
   "outputs": [],
   "source": [
    "#husk at slette filerne fra forrige gang før du kører koden igen, ellers brokker Python sig\n",
    "kolonne_generering(wides=[7, 5, 4, 3], demand=[20, 31, 27, 23], C=20)"
   ]
  },
  {
   "cell_type": "code",
   "execution_count": null,
   "metadata": {},
   "outputs": [],
   "source": [
    "with open(\"CS-MasterLP-1.lp\") as f:\n",
    "    print(f.read())"
   ]
  },
  {
   "cell_type": "code",
   "execution_count": null,
   "metadata": {},
   "outputs": [],
   "source": [
    "with open(\"CS-KolGen-1.lp\") as f:\n",
    "    print(f.read())"
   ]
  },
  {
   "cell_type": "code",
   "execution_count": null,
   "metadata": {},
   "outputs": [],
   "source": []
  }
 ],
 "metadata": {
  "kernelspec": {
   "display_name": "Python 3 (ipykernel)",
   "language": "python",
   "name": "python3"
  },
  "language_info": {
   "codemirror_mode": {
    "name": "ipython",
    "version": 3
   },
   "file_extension": ".py",
   "mimetype": "text/x-python",
   "name": "python",
   "nbconvert_exporter": "python",
   "pygments_lexer": "ipython3",
   "version": "3.10.3"
  }
 },
 "nbformat": 4,
 "nbformat_minor": 4
}
