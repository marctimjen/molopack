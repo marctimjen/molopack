{
 "cells": [
  {
   "cell_type": "code",
   "execution_count": 1,
   "id": "00eafbd3-8a8a-4dea-a6a5-a6ac0d8ce22d",
   "metadata": {},
   "outputs": [],
   "source": [
    "import molopack as mp"
   ]
  },
  {
   "cell_type": "markdown",
   "id": "9ac3d9fc-81df-4e35-b025-fcc6df90194d",
   "metadata": {},
   "source": [
    "Eksempel fra forelæsningen:"
   ]
  },
  {
   "cell_type": "code",
   "execution_count": 2,
   "id": "0eaa2d71-c76f-48f6-bf2a-af22623e1689",
   "metadata": {},
   "outputs": [
    {
     "name": "stdout",
     "output_type": "stream",
     "text": [
      "The given knapsack inequality:\n",
      "5*d1 + 7*d2 + 8*d3 + 9*d4 + 10*d5 + 12*d6 + 15*d7 + 21*d8 + 0 <= 25\n",
      "\n",
      "The minimal cover is:\n",
      "5*d1 + 7*d2 + 8*d3 + 9*d4 + 0 <= 25\n",
      "1*d1 + 1*d2 + 1*d3 + 1*d4 + 0 <= 3\n",
      "\n",
      "Padberg step 1:\n",
      "1*d1 + 1*d2 + 1*d3 + 1*d4 + 1*d5 + 0 <= 3\n",
      "5*d1 + 7*d2 + 8*d3 + 9*d4 + 10*d5 + 0 <= 25\n",
      "\n",
      "Padberg step 2:\n",
      "1*d1 + 1*d2 + 1*d3 + 1*d4 + 1*d5 + 1*d6 + 0 <= 3\n",
      "5*d1 + 7*d2 + 8*d3 + 9*d4 + 10*d5 + 12*d6 + 0 <= 25\n",
      "\n",
      "Padberg step 3:\n",
      "1*d1 + 1*d2 + 1*d3 + 1*d4 + 1*d5 + 1*d6 + 2*d7 + 0 <= 3\n",
      "5*d1 + 7*d2 + 8*d3 + 9*d4 + 10*d5 + 12*d6 + 15*d7 + 0 <= 25\n",
      "\n",
      "Padberg step 4:\n",
      "1*d1 + 1*d2 + 1*d3 + 1*d4 + 1*d5 + 1*d6 + 2*d7 + 3*d8 + 0 <= 3\n",
      "5*d1 + 7*d2 + 8*d3 + 9*d4 + 10*d5 + 12*d6 + 15*d7 + 21*d8 + 0 <= 25\n",
      "\n",
      "Thus the LCI becomes:\n",
      "1*d1 + 1*d2 + 1*d3 + 1*d4 + 1*d5 + 1*d6 + 2*d7 + 3*d8 + 0 <= 3\n",
      "5*d1 + 7*d2 + 8*d3 + 9*d4 + 10*d5 + 12*d6 + 15*d7 + 21*d8 + 0 <= 25\n"
     ]
    },
    {
     "data": {
      "text/plain": [
       "([5, 7, 8, 9, 10, 12, 15, 21], [1, 1, 1, 1, 1, 1, 2, 3])"
      ]
     },
     "execution_count": 2,
     "metadata": {},
     "output_type": "execute_result"
    }
   ],
   "source": [
    "ls = [21, 15, 12, 10, 9, 8, 7, 5]\n",
    "mp.padberg(ls, 25, True)"
   ]
  },
  {
   "cell_type": "markdown",
   "id": "ca7e3d18-0d08-4438-86fe-2f894e41dce5",
   "metadata": {},
   "source": [
    "Andet eksempel:"
   ]
  },
  {
   "cell_type": "code",
   "execution_count": 3,
   "id": "1f52fc06-9635-4b8e-b008-568abccfae80",
   "metadata": {},
   "outputs": [
    {
     "name": "stdout",
     "output_type": "stream",
     "text": [
      "The given knapsack inequality:\n",
      "38*d1 + 65*d2 + 66*d3 + 66*d4 + 66*d5 + 71*d6 + 103*d7 + 0 <= 205\n",
      "\n",
      "The minimal cover is:\n",
      "38*d1 + 65*d2 + 66*d3 + 66*d4 + 0 <= 205\n",
      "1*d1 + 1*d2 + 1*d3 + 1*d4 + 0 <= 3\n",
      "\n",
      "Padberg step 1:\n",
      "1*d1 + 1*d2 + 1*d3 + 1*d4 + 1*d5 + 0 <= 3\n",
      "38*d1 + 65*d2 + 66*d3 + 66*d4 + 66*d5 + 0 <= 205\n",
      "\n",
      "Padberg step 2:\n",
      "1*d1 + 1*d2 + 1*d3 + 1*d4 + 1*d5 + 1*d6 + 0 <= 3\n",
      "38*d1 + 65*d2 + 66*d3 + 66*d4 + 66*d5 + 71*d6 + 0 <= 205\n",
      "\n",
      "Padberg step 3:\n",
      "1*d1 + 1*d2 + 1*d3 + 1*d4 + 1*d5 + 1*d6 + 2*d7 + 0 <= 3\n",
      "38*d1 + 65*d2 + 66*d3 + 66*d4 + 66*d5 + 71*d6 + 103*d7 + 0 <= 205\n",
      "\n",
      "Thus the LCI becomes:\n",
      "1*d1 + 1*d2 + 1*d3 + 1*d4 + 1*d5 + 1*d6 + 2*d7 + 0 <= 3\n",
      "38*d1 + 65*d2 + 66*d3 + 66*d4 + 66*d5 + 71*d6 + 103*d7 + 0 <= 205\n"
     ]
    },
    {
     "data": {
      "text/plain": [
       "([38, 65, 66, 66, 66, 71, 103], [1, 1, 1, 1, 1, 1, 2])"
      ]
     },
     "execution_count": 3,
     "metadata": {},
     "output_type": "execute_result"
    }
   ],
   "source": [
    "ls = [103, 71, 66, 66, 66, 65, 38]\n",
    "\n",
    "mp.padberg(ls, 205, True)"
   ]
  }
 ],
 "metadata": {
  "kernelspec": {
   "display_name": "Python 3 (ipykernel)",
   "language": "python",
   "name": "python3"
  },
  "language_info": {
   "codemirror_mode": {
    "name": "ipython",
    "version": 3
   },
   "file_extension": ".py",
   "mimetype": "text/x-python",
   "name": "python",
   "nbconvert_exporter": "python",
   "pygments_lexer": "ipython3",
   "version": "3.9.6"
  }
 },
 "nbformat": 4,
 "nbformat_minor": 5
}
