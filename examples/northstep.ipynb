{
 "cells": [
  {
   "cell_type": "code",
   "execution_count": 13,
   "id": "74e8edb6-49dd-4aa2-a749-ba2620922e9a",
   "metadata": {},
   "outputs": [
    {
     "data": {
      "text/plain": [
       "'hello'"
      ]
     },
     "execution_count": 13,
     "metadata": {},
     "output_type": "execute_result"
    }
   ],
   "source": [
    "import sys\n",
    "sys.path.append(\"..\") # adds higher directory to python modules path\n",
    "\n",
    "import molopack as m"
   ]
  },
  {
   "cell_type": "code",
   "execution_count": 12,
   "id": "9edf7e13-f2ee-435b-b551-e3158c2718ad",
   "metadata": {},
   "outputs": [
    {
     "ename": "ImportError",
     "evalue": "cannot import name 'north_west_and_step' from 'molopack' (C:\\Users\\Marc\\anaconda3\\envs\\molo\\lib\\site-packages\\molopack\\__init__.py)",
     "output_type": "error",
     "traceback": [
      "\u001b[1;31m---------------------------------------------------------------------------\u001b[0m",
      "\u001b[1;31mImportError\u001b[0m                               Traceback (most recent call last)",
      "Input \u001b[1;32mIn [12]\u001b[0m, in \u001b[0;36m<module>\u001b[1;34m\u001b[0m\n\u001b[1;32m----> 1\u001b[0m \u001b[38;5;28;01mfrom\u001b[39;00m \u001b[38;5;21;01mmolopack\u001b[39;00m \u001b[38;5;28;01mimport\u001b[39;00m north_west_and_step\n\u001b[0;32m      2\u001b[0m \u001b[38;5;28;01mfrom\u001b[39;00m \u001b[38;5;21;01mmolopack\u001b[39;00m\u001b[38;5;21;01m.\u001b[39;00m\u001b[38;5;21;01mnorthstep\u001b[39;00m \u001b[38;5;28;01mimport\u001b[39;00m north_west\n\u001b[0;32m      4\u001b[0m supply \u001b[38;5;241m=\u001b[39m [\u001b[38;5;241m6\u001b[39m, \u001b[38;5;241m3\u001b[39m, \u001b[38;5;241m5\u001b[39m]\n",
      "\u001b[1;31mImportError\u001b[0m: cannot import name 'north_west_and_step' from 'molopack' (C:\\Users\\Marc\\anaconda3\\envs\\molo\\lib\\site-packages\\molopack\\__init__.py)"
     ]
    }
   ],
   "source": [
    "from molopack import north_west_and_step\n",
    "from molopack.northstep import north_west\n",
    "\n",
    "supply = [6, 3, 5]\n",
    "demand = [2, 3, 2, 7]\n",
    "\n",
    "costs = [[7, 11, 3, 8],\n",
    "         [2, 10, 1, 2],\n",
    "         [14, 18, 8, 5]]\n",
    "\n",
    "#supply = [5, 5, 6]\n",
    "#demand = [2, 2, 4, 4, 4]\n",
    "#\n",
    "#costs = [[10, 1, 1, 1, 1],\n",
    "#         [1, 1, 1, 1, 1],\n",
    "#         [1, 1, 1, 1, 50]]\n",
    "\n",
    "\n",
    "print(north_west_and_step(supply, demand, costs))"
   ]
  },
  {
   "cell_type": "code",
   "execution_count": null,
   "id": "c24ef7b5-7289-45e7-9a13-428598cf2ab9",
   "metadata": {},
   "outputs": [],
   "source": []
  }
 ],
 "metadata": {
  "kernelspec": {
   "display_name": "Python 3 (ipykernel)",
   "language": "python",
   "name": "python3"
  },
  "language_info": {
   "codemirror_mode": {
    "name": "ipython",
    "version": 3
   },
   "file_extension": ".py",
   "mimetype": "text/x-python",
   "name": "python",
   "nbconvert_exporter": "python",
   "pygments_lexer": "ipython3",
   "version": "3.9.6"
  }
 },
 "nbformat": 4,
 "nbformat_minor": 5
}
