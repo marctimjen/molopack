{
 "cells": [
  {
   "cell_type": "code",
   "execution_count": 3,
   "id": "5aaf70e3",
   "metadata": {},
   "outputs": [
    {
     "name": "stdout",
     "output_type": "stream",
     "text": [
      "[1, 2, 3, 4, 5, 6]\n",
      "[1, 3, 4, 5, 6]\n",
      "[3, 4, 5, 6]\n",
      "[3, 4, 6]\n",
      "[3, 6]\n",
      "[6]\n",
      "[]\n"
     ]
    },
    {
     "data": {
      "text/plain": [
       "([0, 7, 6, 11, 9, 8, 12], ['', 2, 0, 4, 1, 2, 4])"
      ]
     },
     "execution_count": 3,
     "metadata": {},
     "output_type": "execute_result"
    }
   ],
   "source": [
    "\"\"\"\n",
    "// Input: Orienteret graf i en adjandy matrix\n",
    "\n",
    "// Input: Orienteret graf G = (N; A) med kantlængder c_ij\n",
    "// Output: Længde L_i af korteste vej fra s \\in N til alle andre punkter i \\in N \\ {s}\n",
    "\n",
    "\"\"\"\n",
    "import numpy as np\n",
    "import sys\n",
    "sys.path.append(\"..\") # adds higher directory to python modules path\n",
    "from molopack import dijkstras_algoritme\n",
    "\n",
    "# Alle afstanden skal være større end 0.\n",
    "\n",
    "# Eksempel fra slides\n",
    "         # til  0,  1,  2,  3,  4,  5,  6, \n",
    "A = np.array([[-1,  8,  6, -1, -1, -1, -1], #Fra 0\n",
    "              [-1, -1,  1,  5,  2, -1, -1], #1\n",
    "              [-1,  1, -1,  9, -1,  2, -1], #2\n",
    "              [-1, -1, -1, -1,  1,  4, -1], #3\n",
    "              [-1, -1, -1,  2, -1, -1,  3], #4\n",
    "              [-1, -1, -1, -1, -1, -1,  7], #5\n",
    "              [-1, -1, -1, -1, -1, -1, -1]])#6\n",
    "\n",
    "dijkstras_algoritme(A)"
   ]
  }
 ],
 "metadata": {
  "kernelspec": {
   "display_name": "Python 3 (ipykernel)",
   "language": "python",
   "name": "python3"
  },
  "language_info": {
   "codemirror_mode": {
    "name": "ipython",
    "version": 3
   },
   "file_extension": ".py",
   "mimetype": "text/x-python",
   "name": "python",
   "nbconvert_exporter": "python",
   "pygments_lexer": "ipython3",
   "version": "3.10.3"
  }
 },
 "nbformat": 4,
 "nbformat_minor": 5
}
