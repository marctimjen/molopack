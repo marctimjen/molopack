{
 "cells": [
  {
   "cell_type": "code",
   "execution_count": 1,
   "metadata": {},
   "outputs": [],
   "source": [
    "import numpy as np\n",
    "\n",
    "import sys\n",
    "sys.path.append(\"..\") # adds higher directory to python modules path\n",
    "from molopack import pferschy"
   ]
  },
  {
   "cell_type": "code",
   "execution_count": 29,
   "metadata": {},
   "outputs": [
    {
     "name": "stdout",
     "output_type": "stream",
     "text": [
      "[[1, 7, 8, 6, 5], [2, 4, 3]] 232\n",
      "[[1, 7, 8], [2, 4], [3, 6, 5]] 248\n",
      "[[1, 7, 6, 5, 3, 2, 4, 8]] 251\n"
     ]
    },
    {
     "data": {
      "text/plain": [
       "([[1, 7, 6, 5, 3, 2, 4, 8]], 251)"
      ]
     },
     "execution_count": 29,
     "metadata": {},
     "output_type": "execute_result"
    }
   ],
   "source": [
    "# HELTAL-2 som eksempel\n",
    "\n",
    "m = 999\n",
    "#                   1   2   3   4   5   6   7   8\n",
    "costs = np.array([[ m, 76, 43, 38, 51, 42, 19, 80], # 1\n",
    "                  [42,  m, 49, 26, 78, 52, 39, 87], # 2\n",
    "                  [48, 28,  m, 36, 53, 44, 68, 61], # 3\n",
    "                  [72, 31, 29,  m, 42, 49, 50, 38], # 4\n",
    "                  [30, 52, 38, 47,  m, 64, 75, 82], # 5\n",
    "                  [66, 51, 83, 51, 22,  m, 37, 71], # 6\n",
    "                  [77, 62, 93, 54, 69, 38,  m, 26], # 7\n",
    "                  [42, 58, 66, 76, 41, 52, 83,  m]])# 8\n",
    "\n",
    "pferschy(costs)"
   ]
  },
  {
   "cell_type": "code",
   "execution_count": 31,
   "metadata": {},
   "outputs": [
    {
     "name": "stdout",
     "output_type": "stream",
     "text": [
      "[[1, 2, 5], [3, 4]] 38\n",
      "[[1, 5, 2, 4, 3]] 38\n"
     ]
    },
    {
     "data": {
      "text/plain": [
       "([[1, 5, 2, 4, 3]], 38)"
      ]
     },
     "execution_count": 31,
     "metadata": {},
     "output_type": "execute_result"
    }
   ],
   "source": [
    "\n",
    "costs =np.array([[m, 4, 9, 13, 7],\n",
    "                [14, m, 12, 8, 5],\n",
    "                [10, 18, m, 18, 17],\n",
    "                [11, 16, 8, m, 15],\n",
    "                [3, 5, 2, 20, m]])\n",
    "\n",
    "pferschy(costs)"
   ]
  },
  {
   "cell_type": "code",
   "execution_count": 34,
   "metadata": {},
   "outputs": [
    {
     "name": "stdout",
     "output_type": "stream",
     "text": [
      "[[1, 2, 3, 4]] 53\n"
     ]
    },
    {
     "data": {
      "text/plain": [
       "([[1, 2, 3, 4]], 53)"
      ]
     },
     "execution_count": 34,
     "metadata": {},
     "output_type": "execute_result"
    }
   ],
   "source": [
    "\n",
    "\n",
    "costs = np.array([[m, 17, 21, 14],\n",
    "                [12, m, 11, 16],\n",
    "                [23, 19, m, 10],\n",
    "                [15, 18, 20, m]])\n",
    "\n",
    "pferschy(costs)"
   ]
  },
  {
   "cell_type": "code",
   "execution_count": null,
   "metadata": {},
   "outputs": [],
   "source": []
  }
 ],
 "metadata": {
  "kernelspec": {
   "display_name": "Python 3 (ipykernel)",
   "language": "python",
   "name": "python3"
  },
  "language_info": {
   "codemirror_mode": {
    "name": "ipython",
    "version": 3
   },
   "file_extension": ".py",
   "mimetype": "text/x-python",
   "name": "python",
   "nbconvert_exporter": "python",
   "pygments_lexer": "ipython3",
   "version": "3.10.3"
  }
 },
 "nbformat": 4,
 "nbformat_minor": 4
}
